{
 "cells": [
  {
   "cell_type": "code",
   "execution_count": 1,
   "id": "95883db2-213c-4db3-8eca-1b95a02b15e5",
   "metadata": {
    "tags": []
   },
   "outputs": [
    {
     "name": "stdout",
     "output_type": "stream",
     "text": [
      "Warning: Package `llama_cpp` needed for LLaMa wrapper (pip install git+https://github.com/tristanvdb/llama-cpp-python@choice-dev)\n"
     ]
    }
   ],
   "source": [
    "import os, sys, json\n",
    "sys.path.append(\"/home/tristan/projects/LLM/AutoCog\")\n",
    "from autocog.language.sta.frontend import frontend\n",
    "from autocog.utility.pynb import wrap_graphviz, display\n",
    "\n",
    "# `wrap_frontend` displays the parse tree then call the normal frontend to produce the AST\n",
    "from autocog.language.sta.devel import wrap_frontend\n",
    "\n",
    "programs = [\"\"\"\n",
    "\"\"\",\"\"\"\n",
    "define N=10;\n",
    "argument M=$N;\n",
    "argument P;\n",
    "\"\"\",\"\"\"\n",
    "prompt main {\n",
    "    is {\n",
    "        question is text;\n",
    "        answer is text<$N,K=\"test\",f\"another:{P}\">;\n",
    "    }\n",
    "    channel {\n",
    "        to .question from ?question;\n",
    "    }\n",
    "}\n",
    "\"\"\",\"\"\"\n",
    "prompt main {\n",
    "    is {\n",
    "        question is text;\n",
    "        choices[4] is {\n",
    "            value is text;\n",
    "            correct is enum(\"yes\",\"no\",\"maybe\");\n",
    "        }\n",
    "        answer is repeat(.choices.value);\n",
    "    }\n",
    "}\n",
    "\"\"\",\"\"\"\n",
    "prompt main {\n",
    "    is {\n",
    "        question is text;\n",
    "    }\n",
    "    channel {\n",
    "        to .question.bar from another.question[3].foo[4:7];\n",
    "    }\n",
    "}\n",
    "\"\"\",\"\"\"\n",
    "prompt main {\n",
    "    is {\n",
    "        question is text;\n",
    "    }\n",
    "    return .question;\n",
    "}\n",
    "\"\"\",\"\"\"\n",
    "prompt main {\n",
    "    is {\n",
    "        question is text;\n",
    "    }\n",
    "    return {\n",
    "        as \"ready\";\n",
    "        from .question;\n",
    "        from .question as \"another\";\n",
    "    }\n",
    "}\n",
    "\"\"\",\"\"\"\n",
    "prompt main {\n",
    "    is {\n",
    "        question is text;\n",
    "    }\n",
    "    flow {\n",
    "        to main as \"loop\";\n",
    "        to exit[3];\n",
    "    }\n",
    "}\n",
    "\"\"\",\"\"\"\n",
    "prompt main {\n",
    "    define default=\"some text\";\n",
    "    argument annotation=$default;\n",
    "    is {\n",
    "        question is text;\n",
    "    }\n",
    "    annotate {\n",
    "        .question as $annotation;\n",
    "    }\n",
    "}\n",
    "\"\"\",\"\"\"\n",
    "struct a_choice {\n",
    "    is {\n",
    "        value   is text;\n",
    "    }\n",
    "}\n",
    "\"\"\",\"\"\"\n",
    "format sentence {\n",
    "    argument N=30;\n",
    "    is text<$N>;\n",
    "    annotate f\"A grammatically correct sentence made of at most {N} tokens.\";\n",
    "}\n",
    "\"\"\",\"\"\"\n",
    "flow {\n",
    "    to mmlu_main as \"main\";\n",
    "}\n",
    "\"\"\"\n",
    "]"
   ]
  },
  {
   "cell_type": "code",
   "execution_count": 2,
   "id": "344ba1e2-6741-47be-98a6-0d048d2e664c",
   "metadata": {
    "tags": []
   },
   "outputs": [
    {
     "ename": "VisitationError",
     "evalue": "AssertionError: {'kind': 'call_block', 'children': [{'kind': 'CALL', 'text': 'call'}, {'kind': 'WS', 'text': ' '}, {'kind': 'LCB', 'text': '{'}, {'kind': 'WS', 'text': '\\n        '}, {'kind': '', 'text': ''}, {'kind': '', 'children': [{'kind': '', 'children': [{'kind': 'entry_stmt', 'children': [{'kind': 'ENTRY', 'text': 'entry'}, {'kind': 'WS', 'text': ' '}, {'kind': 'identifier', 'text': 'mmlu_annot'}, {'kind': 'WS', 'text': ''}, {'kind': 'SC', 'text': ';'}]}, {'kind': 'WS', 'text': '\\n        '}]}]}, {'kind': '', 'children': [{'kind': '', 'children': [{'kind': 'kwarg_stmt', 'children': [{'kind': 'KWARG', 'text': 'kwarg'}, {'kind': 'WS', 'text': ' '}, {'kind': 'identifier', 'text': 'topic'}, {'kind': 'WS', 'text': '    '}, {'kind': '', 'children': [{'kind': 'kwarg_from_stmt', 'children': [{'kind': 'FROM', 'text': 'from'}, {'kind': 'WS', 'text': ' '}, Path(steps=[Step(name='topic', slice=None)], is_input=True, prompt=None)]}]}, {'kind': 'WS', 'text': ''}, {'kind': 'SC', 'text': ';'}]}, {'kind': 'WS', 'text': '\\n        '}]}, {'kind': '', 'children': [{'kind': 'kwarg_stmt', 'children': [{'kind': 'KWARG', 'text': 'kwarg'}, {'kind': 'WS', 'text': ' '}, {'kind': 'identifier', 'text': 'question'}, {'kind': 'WS', 'text': ' '}, {'kind': '', 'children': [{'kind': 'kwarg_from_stmt', 'children': [{'kind': 'FROM', 'text': 'from'}, {'kind': 'WS', 'text': ' '}, Path(steps=[Step(name='question', slice=None)], is_input=True, prompt=None)]}]}, {'kind': 'WS', 'text': ''}, {'kind': 'SC', 'text': ';'}]}, {'kind': 'WS', 'text': '\\n        '}]}, {'kind': '', 'children': [{'kind': 'kwarg_stmt', 'children': [{'kind': 'KWARG', 'text': 'kwarg'}, {'kind': 'WS', 'text': ' '}, {'kind': 'identifier', 'text': 'choice'}, {'kind': 'WS', 'text': '   '}, {'kind': '', 'children': [{'kind': 'kwarg_map_stmt', 'children': [{'kind': 'MAP', 'text': 'map'}, {'kind': 'WS', 'text': '  '}, Path(steps=[Step(name='choices', slice=None)], is_input=True, prompt=None)]}]}, {'kind': 'WS', 'text': ''}, {'kind': 'SC', 'text': ';'}]}, {'kind': 'WS', 'text': '\\n        '}]}]}, {'kind': '', 'children': [{'kind': '', 'children': [{'kind': 'bind_stmt', 'children': [{'kind': 'BIND', 'text': 'bind'}, {'kind': 'WS', 'text': ' '}, {'kind': 'identifier', 'text': 'choice'}, {'kind': 'WS', 'text': ' '}, {'kind': 'AS', 'text': 'as'}, {'kind': 'WS', 'text': ' '}, {'kind': 'identifier', 'text': 'value'}, {'kind': 'WS', 'text': ''}, {'kind': 'SC', 'text': ';'}]}, {'kind': 'WS', 'text': '\\n    '}]}]}, {'kind': 'RCB', 'text': '}'}]}\n\nParse tree:\n<Node called \"channel_stmt\" matching \"to .choices call {\n        entry mmlu_annot;\n        kwarg topic    from ?topic;\n        kwarg question from ?question;\n        kwarg choice   map  ?choices;\n        bind choice as value;\n    }\">  <-- *** We were here. ***\n    <Node called \"TO\" matching \"to\">\n    <RegexNode called \"WS\" matching \" \">\n    <Node called \"local_path_expr\" matching \".choices\">\n        <Node called \"PERIOD\" matching \".\">\n        <Node called \"sub_path_expr\" matching \"choices\">\n            <Node called \"path_step\" matching \"choices\">\n                <RegexNode called \"identifier\" matching \"choices\">\n                <Node matching \"\">\n            <Node matching \"\">\n    <RegexNode called \"WS\" matching \" \">\n    <Node matching \"call {\n            entry mmlu_annot;\n            kwarg topic    from ?topic;\n            kwarg question from ?question;\n            kwarg choice   map  ?choices;\n            bind choice as value;\n        }\">\n        <Node called \"call_block\" matching \"call {\n                entry mmlu_annot;\n                kwarg topic    from ?topic;\n                kwarg question from ?question;\n                kwarg choice   map  ?choices;\n                bind choice as value;\n            }\">\n            <Node called \"CALL\" matching \"call\">\n            <RegexNode called \"WS\" matching \" \">\n            <Node called \"LCB\" matching \"{\">\n            <RegexNode called \"WS\" matching \"\n                    \">\n            <Node matching \"\">\n            <Node matching \"entry mmlu_annot;\n                    \">\n                <Node matching \"entry mmlu_annot;\n                        \">\n                    <Node called \"entry_stmt\" matching \"entry mmlu_annot;\">\n                        <Node called \"ENTRY\" matching \"entry\">\n                        <RegexNode called \"WS\" matching \" \">\n                        <RegexNode called \"identifier\" matching \"mmlu_annot\">\n                        <RegexNode called \"WS\" matching \"\">\n                        <Node called \"SC\" matching \";\">\n                    <RegexNode called \"WS\" matching \"\n                            \">\n            <Node matching \"kwarg topic    from ?topic;\n                    kwarg question from ?question;\n                    kwarg choice   map  ?choices;\n                    \">\n                <Node matching \"kwarg topic    from ?topic;\n                        \">\n                    <Node called \"kwarg_stmt\" matching \"kwarg topic    from ?topic;\">\n                        <Node called \"KWARG\" matching \"kwarg\">\n                        <RegexNode called \"WS\" matching \" \">\n                        <RegexNode called \"identifier\" matching \"topic\">\n                        <RegexNode called \"WS\" matching \"    \">\n                        <Node matching \"from ?topic\">\n                            <Node called \"kwarg_from_stmt\" matching \"from ?topic\">\n                                <Node called \"FROM\" matching \"from\">\n                                <RegexNode called \"WS\" matching \" \">\n                                <Node called \"path_expr\" matching \"?topic\">\n                                    <Node called \"input_path_expr\" matching \"?topic\">\n                                        <Node called \"QMARK\" matching \"?\">\n                                        <Node called \"sub_path_expr\" matching \"topic\">\n                                            <Node called \"path_step\" matching \"topic\">\n                                                <RegexNode called \"identifier\" matching \"topic\">\n                                                <Node matching \"\">\n                                            <Node matching \"\">\n                        <RegexNode called \"WS\" matching \"\">\n                        <Node called \"SC\" matching \";\">\n                    <RegexNode called \"WS\" matching \"\n                            \">\n                <Node matching \"kwarg question from ?question;\n                        \">\n                    <Node called \"kwarg_stmt\" matching \"kwarg question from ?question;\">\n                        <Node called \"KWARG\" matching \"kwarg\">\n                        <RegexNode called \"WS\" matching \" \">\n                        <RegexNode called \"identifier\" matching \"question\">\n                        <RegexNode called \"WS\" matching \" \">\n                        <Node matching \"from ?question\">\n                            <Node called \"kwarg_from_stmt\" matching \"from ?question\">\n                                <Node called \"FROM\" matching \"from\">\n                                <RegexNode called \"WS\" matching \" \">\n                                <Node called \"path_expr\" matching \"?question\">\n                                    <Node called \"input_path_expr\" matching \"?question\">\n                                        <Node called \"QMARK\" matching \"?\">\n                                        <Node called \"sub_path_expr\" matching \"question\">\n                                            <Node called \"path_step\" matching \"question\">\n                                                <RegexNode called \"identifier\" matching \"question\">\n                                                <Node matching \"\">\n                                            <Node matching \"\">\n                        <RegexNode called \"WS\" matching \"\">\n                        <Node called \"SC\" matching \";\">\n                    <RegexNode called \"WS\" matching \"\n                            \">\n                <Node matching \"kwarg choice   map  ?choices;\n                        \">\n                    <Node called \"kwarg_stmt\" matching \"kwarg choice   map  ?choices;\">\n                        <Node called \"KWARG\" matching \"kwarg\">\n                        <RegexNode called \"WS\" matching \" \">\n                        <RegexNode called \"identifier\" matching \"choice\">\n                        <RegexNode called \"WS\" matching \"   \">\n                        <Node matching \"map  ?choices\">\n                            <Node called \"kwarg_map_stmt\" matching \"map  ?choices\">\n                                <Node called \"MAP\" matching \"map\">\n                                <RegexNode called \"WS\" matching \"  \">\n                                <Node called \"path_expr\" matching \"?choices\">\n                                    <Node called \"input_path_expr\" matching \"?choices\">\n                                        <Node called \"QMARK\" matching \"?\">\n                                        <Node called \"sub_path_expr\" matching \"choices\">\n                                            <Node called \"path_step\" matching \"choices\">\n                                                <RegexNode called \"identifier\" matching \"choices\">\n                                                <Node matching \"\">\n                                            <Node matching \"\">\n                        <RegexNode called \"WS\" matching \"\">\n                        <Node called \"SC\" matching \";\">\n                    <RegexNode called \"WS\" matching \"\n                            \">\n            <Node matching \"bind choice as value;\n                \">\n                <Node matching \"bind choice as value;\n                    \">\n                    <Node called \"bind_stmt\" matching \"bind choice as value;\">\n                        <Node called \"BIND\" matching \"bind\">\n                        <RegexNode called \"WS\" matching \" \">\n                        <RegexNode called \"identifier\" matching \"choice\">\n                        <RegexNode called \"WS\" matching \" \">\n                        <Node called \"AS\" matching \"as\">\n                        <RegexNode called \"WS\" matching \" \">\n                        <RegexNode called \"identifier\" matching \"value\">\n                        <RegexNode called \"WS\" matching \"\">\n                        <Node called \"SC\" matching \";\">\n                    <RegexNode called \"WS\" matching \"\n                        \">\n            <Node called \"RCB\" matching \"}\">",
     "output_type": "error",
     "traceback": [
      "\u001b[0;31m---------------------------------------------------------------------------\u001b[0m",
      "\u001b[0;31mAssertionError\u001b[0m                            Traceback (most recent call last)",
      "File \u001b[0;32m~/.local/lib/python3.8/site-packages/parsimonious/nodes.py:213\u001b[0m, in \u001b[0;36mNodeVisitor.visit\u001b[0;34m(self, node)\u001b[0m\n\u001b[1;32m    212\u001b[0m \u001b[38;5;28;01mtry\u001b[39;00m:\n\u001b[0;32m--> 213\u001b[0m     \u001b[38;5;28;01mreturn\u001b[39;00m \u001b[43mmethod\u001b[49m\u001b[43m(\u001b[49m\u001b[43mnode\u001b[49m\u001b[43m,\u001b[49m\u001b[43m \u001b[49m\u001b[43m[\u001b[49m\u001b[38;5;28;43mself\u001b[39;49m\u001b[38;5;241;43m.\u001b[39;49m\u001b[43mvisit\u001b[49m\u001b[43m(\u001b[49m\u001b[43mn\u001b[49m\u001b[43m)\u001b[49m\u001b[43m \u001b[49m\u001b[38;5;28;43;01mfor\u001b[39;49;00m\u001b[43m \u001b[49m\u001b[43mn\u001b[49m\u001b[43m \u001b[49m\u001b[38;5;129;43;01min\u001b[39;49;00m\u001b[43m \u001b[49m\u001b[43mnode\u001b[49m\u001b[43m]\u001b[49m\u001b[43m)\u001b[49m\n\u001b[1;32m    214\u001b[0m \u001b[38;5;28;01mexcept\u001b[39;00m (VisitationError, UndefinedLabel):\n\u001b[1;32m    215\u001b[0m     \u001b[38;5;66;03m# Don't catch and re-wrap already-wrapped exceptions.\u001b[39;00m\n",
      "File \u001b[0;32m~/projects/LLM/AutoCog/autocog/language/sta/frontend.py:318\u001b[0m, in \u001b[0;36mVisitor.visit_channel_stmt\u001b[0;34m(self, node, visited_children)\u001b[0m\n\u001b[1;32m    317\u001b[0m source \u001b[38;5;241m=\u001b[39m visited_children[\u001b[38;5;241m4\u001b[39m][\u001b[38;5;124m'\u001b[39m\u001b[38;5;124mchildren\u001b[39m\u001b[38;5;124m'\u001b[39m][\u001b[38;5;241m0\u001b[39m]\n\u001b[0;32m--> 318\u001b[0m \u001b[38;5;28;01massert\u001b[39;00m \u001b[38;5;28misinstance\u001b[39m(source, Path) \u001b[38;5;129;01mor\u001b[39;00m \u001b[38;5;28misinstance\u001b[39m(source, Call), \u001b[38;5;124mf\u001b[39m\u001b[38;5;124m\"\u001b[39m\u001b[38;5;132;01m{\u001b[39;00msource\u001b[38;5;132;01m}\u001b[39;00m\u001b[38;5;124m\"\u001b[39m\n\u001b[1;32m    319\u001b[0m \u001b[38;5;28;01mreturn\u001b[39;00m Channel(\n\u001b[1;32m    320\u001b[0m     target\u001b[38;5;241m=\u001b[39mvisited_children[\u001b[38;5;241m2\u001b[39m],\n\u001b[1;32m    321\u001b[0m     source\u001b[38;5;241m=\u001b[39msource\n\u001b[1;32m    322\u001b[0m )\n",
      "\u001b[0;31mAssertionError\u001b[0m: {'kind': 'call_block', 'children': [{'kind': 'CALL', 'text': 'call'}, {'kind': 'WS', 'text': ' '}, {'kind': 'LCB', 'text': '{'}, {'kind': 'WS', 'text': '\\n        '}, {'kind': '', 'text': ''}, {'kind': '', 'children': [{'kind': '', 'children': [{'kind': 'entry_stmt', 'children': [{'kind': 'ENTRY', 'text': 'entry'}, {'kind': 'WS', 'text': ' '}, {'kind': 'identifier', 'text': 'mmlu_annot'}, {'kind': 'WS', 'text': ''}, {'kind': 'SC', 'text': ';'}]}, {'kind': 'WS', 'text': '\\n        '}]}]}, {'kind': '', 'children': [{'kind': '', 'children': [{'kind': 'kwarg_stmt', 'children': [{'kind': 'KWARG', 'text': 'kwarg'}, {'kind': 'WS', 'text': ' '}, {'kind': 'identifier', 'text': 'topic'}, {'kind': 'WS', 'text': '    '}, {'kind': '', 'children': [{'kind': 'kwarg_from_stmt', 'children': [{'kind': 'FROM', 'text': 'from'}, {'kind': 'WS', 'text': ' '}, Path(steps=[Step(name='topic', slice=None)], is_input=True, prompt=None)]}]}, {'kind': 'WS', 'text': ''}, {'kind': 'SC', 'text': ';'}]}, {'kind': 'WS', 'text': '\\n        '}]}, {'kind': '', 'children': [{'kind': 'kwarg_stmt', 'children': [{'kind': 'KWARG', 'text': 'kwarg'}, {'kind': 'WS', 'text': ' '}, {'kind': 'identifier', 'text': 'question'}, {'kind': 'WS', 'text': ' '}, {'kind': '', 'children': [{'kind': 'kwarg_from_stmt', 'children': [{'kind': 'FROM', 'text': 'from'}, {'kind': 'WS', 'text': ' '}, Path(steps=[Step(name='question', slice=None)], is_input=True, prompt=None)]}]}, {'kind': 'WS', 'text': ''}, {'kind': 'SC', 'text': ';'}]}, {'kind': 'WS', 'text': '\\n        '}]}, {'kind': '', 'children': [{'kind': 'kwarg_stmt', 'children': [{'kind': 'KWARG', 'text': 'kwarg'}, {'kind': 'WS', 'text': ' '}, {'kind': 'identifier', 'text': 'choice'}, {'kind': 'WS', 'text': '   '}, {'kind': '', 'children': [{'kind': 'kwarg_map_stmt', 'children': [{'kind': 'MAP', 'text': 'map'}, {'kind': 'WS', 'text': '  '}, Path(steps=[Step(name='choices', slice=None)], is_input=True, prompt=None)]}]}, {'kind': 'WS', 'text': ''}, {'kind': 'SC', 'text': ';'}]}, {'kind': 'WS', 'text': '\\n        '}]}]}, {'kind': '', 'children': [{'kind': '', 'children': [{'kind': 'bind_stmt', 'children': [{'kind': 'BIND', 'text': 'bind'}, {'kind': 'WS', 'text': ' '}, {'kind': 'identifier', 'text': 'choice'}, {'kind': 'WS', 'text': ' '}, {'kind': 'AS', 'text': 'as'}, {'kind': 'WS', 'text': ' '}, {'kind': 'identifier', 'text': 'value'}, {'kind': 'WS', 'text': ''}, {'kind': 'SC', 'text': ';'}]}, {'kind': 'WS', 'text': '\\n    '}]}]}, {'kind': 'RCB', 'text': '}'}]}",
      "\nThe above exception was the direct cause of the following exception:\n",
      "\u001b[0;31mVisitationError\u001b[0m                           Traceback (most recent call last)",
      "Cell \u001b[0;32mIn [2], line 1\u001b[0m\n\u001b[0;32m----> 1\u001b[0m tree \u001b[38;5;241m=\u001b[39m \u001b[43mwrap_frontend\u001b[49m\u001b[43m(\u001b[49m\u001b[38;5;124;43m\"\"\"\u001b[39;49m\u001b[38;5;124;43mchannel \u001b[39;49m\u001b[38;5;124;43m{\u001b[39;49m\n\u001b[1;32m      2\u001b[0m \u001b[38;5;124;43m    to .choices call \u001b[39;49m\u001b[38;5;124;43m{\u001b[39;49m\n\u001b[1;32m      3\u001b[0m \u001b[38;5;124;43m        entry mmlu_annot;\u001b[39;49m\n\u001b[1;32m      4\u001b[0m \u001b[38;5;124;43m        kwarg topic    from ?topic;\u001b[39;49m\n\u001b[1;32m      5\u001b[0m \u001b[38;5;124;43m        kwarg question from ?question;\u001b[39;49m\n\u001b[1;32m      6\u001b[0m \u001b[38;5;124;43m        kwarg choice   map  ?choices;\u001b[39;49m\n\u001b[1;32m      7\u001b[0m \u001b[38;5;124;43m        bind choice as value;\u001b[39;49m\n\u001b[1;32m      8\u001b[0m \u001b[38;5;124;43m    }\u001b[39;49m\n\u001b[1;32m      9\u001b[0m \u001b[38;5;124;43m}\u001b[39;49m\u001b[38;5;124;43m\"\"\"\u001b[39;49m\u001b[43m,\u001b[49m\u001b[43m \u001b[49m\u001b[43mrule\u001b[49m\u001b[38;5;241;43m=\u001b[39;49m\u001b[38;5;124;43m'\u001b[39;49m\u001b[38;5;124;43mchannel_block\u001b[39;49m\u001b[38;5;124;43m'\u001b[39;49m\u001b[43m,\u001b[49m\u001b[43m \u001b[49m\u001b[43mdisplay_parse_tree\u001b[49m\u001b[38;5;241;43m=\u001b[39;49m\u001b[38;5;28;43;01mFalse\u001b[39;49;00m\u001b[43m)\u001b[49m\n\u001b[1;32m     10\u001b[0m dotstr \u001b[38;5;241m=\u001b[39m tree\u001b[38;5;241m.\u001b[39mtoGraphViz()\n\u001b[1;32m     11\u001b[0m \u001b[38;5;28mprint\u001b[39m(dotstr)\n",
      "File \u001b[0;32m~/projects/LLM/AutoCog/autocog/language/sta/devel.py:11\u001b[0m, in \u001b[0;36mwrap_frontend\u001b[0;34m(program, display_parse_tree, rule)\u001b[0m\n\u001b[1;32m      9\u001b[0m \u001b[38;5;28;01mif\u001b[39;00m display_parse_tree:\n\u001b[1;32m     10\u001b[0m     display(wrap_graphviz(prog2gv(grammar, program)))\n\u001b[0;32m---> 11\u001b[0m \u001b[38;5;28;01mreturn\u001b[39;00m \u001b[43mfrontend\u001b[49m\u001b[43m(\u001b[49m\u001b[43mprogram\u001b[49m\u001b[43m,\u001b[49m\u001b[43m \u001b[49m\u001b[43mrule\u001b[49m\u001b[38;5;241;43m=\u001b[39;49m\u001b[43mrule\u001b[49m\u001b[43m)\u001b[49m\n",
      "File \u001b[0;32m~/projects/LLM/AutoCog/autocog/language/sta/frontend.py:601\u001b[0m, in \u001b[0;36mfrontend\u001b[0;34m(program, rule)\u001b[0m\n\u001b[1;32m    599\u001b[0m \u001b[38;5;28;01mif\u001b[39;00m rule \u001b[38;5;129;01mis\u001b[39;00m \u001b[38;5;129;01mnot\u001b[39;00m \u001b[38;5;28;01mNone\u001b[39;00m:\n\u001b[1;32m    600\u001b[0m     G \u001b[38;5;241m=\u001b[39m G[rule]\n\u001b[0;32m--> 601\u001b[0m \u001b[38;5;28;01mreturn\u001b[39;00m \u001b[43mvisitor\u001b[49m\u001b[38;5;241;43m.\u001b[39;49m\u001b[43mvisit\u001b[49m\u001b[43m(\u001b[49m\u001b[43mG\u001b[49m\u001b[38;5;241;43m.\u001b[39;49m\u001b[43mparse\u001b[49m\u001b[43m(\u001b[49m\u001b[43mprogram\u001b[49m\u001b[43m)\u001b[49m\u001b[43m)\u001b[49m\n",
      "File \u001b[0;32m~/.local/lib/python3.8/site-packages/parsimonious/nodes.py:213\u001b[0m, in \u001b[0;36mNodeVisitor.visit\u001b[0;34m(self, node)\u001b[0m\n\u001b[1;32m    210\u001b[0m \u001b[38;5;66;03m# Call that method, and show where in the tree it failed if it blows\u001b[39;00m\n\u001b[1;32m    211\u001b[0m \u001b[38;5;66;03m# up.\u001b[39;00m\n\u001b[1;32m    212\u001b[0m \u001b[38;5;28;01mtry\u001b[39;00m:\n\u001b[0;32m--> 213\u001b[0m     \u001b[38;5;28;01mreturn\u001b[39;00m method(node, [\u001b[38;5;28mself\u001b[39m\u001b[38;5;241m.\u001b[39mvisit(n) \u001b[38;5;28;01mfor\u001b[39;00m n \u001b[38;5;129;01min\u001b[39;00m node])\n\u001b[1;32m    214\u001b[0m \u001b[38;5;28;01mexcept\u001b[39;00m (VisitationError, UndefinedLabel):\n\u001b[1;32m    215\u001b[0m     \u001b[38;5;66;03m# Don't catch and re-wrap already-wrapped exceptions.\u001b[39;00m\n\u001b[1;32m    216\u001b[0m     \u001b[38;5;28;01mraise\u001b[39;00m\n",
      "File \u001b[0;32m~/.local/lib/python3.8/site-packages/parsimonious/nodes.py:213\u001b[0m, in \u001b[0;36m<listcomp>\u001b[0;34m(.0)\u001b[0m\n\u001b[1;32m    210\u001b[0m \u001b[38;5;66;03m# Call that method, and show where in the tree it failed if it blows\u001b[39;00m\n\u001b[1;32m    211\u001b[0m \u001b[38;5;66;03m# up.\u001b[39;00m\n\u001b[1;32m    212\u001b[0m \u001b[38;5;28;01mtry\u001b[39;00m:\n\u001b[0;32m--> 213\u001b[0m     \u001b[38;5;28;01mreturn\u001b[39;00m method(node, [\u001b[38;5;28;43mself\u001b[39;49m\u001b[38;5;241;43m.\u001b[39;49m\u001b[43mvisit\u001b[49m\u001b[43m(\u001b[49m\u001b[43mn\u001b[49m\u001b[43m)\u001b[49m \u001b[38;5;28;01mfor\u001b[39;00m n \u001b[38;5;129;01min\u001b[39;00m node])\n\u001b[1;32m    214\u001b[0m \u001b[38;5;28;01mexcept\u001b[39;00m (VisitationError, UndefinedLabel):\n\u001b[1;32m    215\u001b[0m     \u001b[38;5;66;03m# Don't catch and re-wrap already-wrapped exceptions.\u001b[39;00m\n\u001b[1;32m    216\u001b[0m     \u001b[38;5;28;01mraise\u001b[39;00m\n",
      "File \u001b[0;32m~/.local/lib/python3.8/site-packages/parsimonious/nodes.py:213\u001b[0m, in \u001b[0;36mNodeVisitor.visit\u001b[0;34m(self, node)\u001b[0m\n\u001b[1;32m    210\u001b[0m \u001b[38;5;66;03m# Call that method, and show where in the tree it failed if it blows\u001b[39;00m\n\u001b[1;32m    211\u001b[0m \u001b[38;5;66;03m# up.\u001b[39;00m\n\u001b[1;32m    212\u001b[0m \u001b[38;5;28;01mtry\u001b[39;00m:\n\u001b[0;32m--> 213\u001b[0m     \u001b[38;5;28;01mreturn\u001b[39;00m method(node, [\u001b[38;5;28mself\u001b[39m\u001b[38;5;241m.\u001b[39mvisit(n) \u001b[38;5;28;01mfor\u001b[39;00m n \u001b[38;5;129;01min\u001b[39;00m node])\n\u001b[1;32m    214\u001b[0m \u001b[38;5;28;01mexcept\u001b[39;00m (VisitationError, UndefinedLabel):\n\u001b[1;32m    215\u001b[0m     \u001b[38;5;66;03m# Don't catch and re-wrap already-wrapped exceptions.\u001b[39;00m\n\u001b[1;32m    216\u001b[0m     \u001b[38;5;28;01mraise\u001b[39;00m\n",
      "File \u001b[0;32m~/.local/lib/python3.8/site-packages/parsimonious/nodes.py:213\u001b[0m, in \u001b[0;36m<listcomp>\u001b[0;34m(.0)\u001b[0m\n\u001b[1;32m    210\u001b[0m \u001b[38;5;66;03m# Call that method, and show where in the tree it failed if it blows\u001b[39;00m\n\u001b[1;32m    211\u001b[0m \u001b[38;5;66;03m# up.\u001b[39;00m\n\u001b[1;32m    212\u001b[0m \u001b[38;5;28;01mtry\u001b[39;00m:\n\u001b[0;32m--> 213\u001b[0m     \u001b[38;5;28;01mreturn\u001b[39;00m method(node, [\u001b[38;5;28;43mself\u001b[39;49m\u001b[38;5;241;43m.\u001b[39;49m\u001b[43mvisit\u001b[49m\u001b[43m(\u001b[49m\u001b[43mn\u001b[49m\u001b[43m)\u001b[49m \u001b[38;5;28;01mfor\u001b[39;00m n \u001b[38;5;129;01min\u001b[39;00m node])\n\u001b[1;32m    214\u001b[0m \u001b[38;5;28;01mexcept\u001b[39;00m (VisitationError, UndefinedLabel):\n\u001b[1;32m    215\u001b[0m     \u001b[38;5;66;03m# Don't catch and re-wrap already-wrapped exceptions.\u001b[39;00m\n\u001b[1;32m    216\u001b[0m     \u001b[38;5;28;01mraise\u001b[39;00m\n",
      "File \u001b[0;32m~/.local/lib/python3.8/site-packages/parsimonious/nodes.py:213\u001b[0m, in \u001b[0;36mNodeVisitor.visit\u001b[0;34m(self, node)\u001b[0m\n\u001b[1;32m    210\u001b[0m \u001b[38;5;66;03m# Call that method, and show where in the tree it failed if it blows\u001b[39;00m\n\u001b[1;32m    211\u001b[0m \u001b[38;5;66;03m# up.\u001b[39;00m\n\u001b[1;32m    212\u001b[0m \u001b[38;5;28;01mtry\u001b[39;00m:\n\u001b[0;32m--> 213\u001b[0m     \u001b[38;5;28;01mreturn\u001b[39;00m method(node, [\u001b[38;5;28mself\u001b[39m\u001b[38;5;241m.\u001b[39mvisit(n) \u001b[38;5;28;01mfor\u001b[39;00m n \u001b[38;5;129;01min\u001b[39;00m node])\n\u001b[1;32m    214\u001b[0m \u001b[38;5;28;01mexcept\u001b[39;00m (VisitationError, UndefinedLabel):\n\u001b[1;32m    215\u001b[0m     \u001b[38;5;66;03m# Don't catch and re-wrap already-wrapped exceptions.\u001b[39;00m\n\u001b[1;32m    216\u001b[0m     \u001b[38;5;28;01mraise\u001b[39;00m\n",
      "File \u001b[0;32m~/.local/lib/python3.8/site-packages/parsimonious/nodes.py:213\u001b[0m, in \u001b[0;36m<listcomp>\u001b[0;34m(.0)\u001b[0m\n\u001b[1;32m    210\u001b[0m \u001b[38;5;66;03m# Call that method, and show where in the tree it failed if it blows\u001b[39;00m\n\u001b[1;32m    211\u001b[0m \u001b[38;5;66;03m# up.\u001b[39;00m\n\u001b[1;32m    212\u001b[0m \u001b[38;5;28;01mtry\u001b[39;00m:\n\u001b[0;32m--> 213\u001b[0m     \u001b[38;5;28;01mreturn\u001b[39;00m method(node, [\u001b[38;5;28;43mself\u001b[39;49m\u001b[38;5;241;43m.\u001b[39;49m\u001b[43mvisit\u001b[49m\u001b[43m(\u001b[49m\u001b[43mn\u001b[49m\u001b[43m)\u001b[49m \u001b[38;5;28;01mfor\u001b[39;00m n \u001b[38;5;129;01min\u001b[39;00m node])\n\u001b[1;32m    214\u001b[0m \u001b[38;5;28;01mexcept\u001b[39;00m (VisitationError, UndefinedLabel):\n\u001b[1;32m    215\u001b[0m     \u001b[38;5;66;03m# Don't catch and re-wrap already-wrapped exceptions.\u001b[39;00m\n\u001b[1;32m    216\u001b[0m     \u001b[38;5;28;01mraise\u001b[39;00m\n",
      "File \u001b[0;32m~/.local/lib/python3.8/site-packages/parsimonious/nodes.py:225\u001b[0m, in \u001b[0;36mNodeVisitor.visit\u001b[0;34m(self, node)\u001b[0m\n\u001b[1;32m    222\u001b[0m \u001b[38;5;66;03m# Catch any exception, and tack on a parse tree so it's easier to\u001b[39;00m\n\u001b[1;32m    223\u001b[0m \u001b[38;5;66;03m# see where it went wrong.\u001b[39;00m\n\u001b[1;32m    224\u001b[0m exc_class \u001b[38;5;241m=\u001b[39m \u001b[38;5;28mtype\u001b[39m(exc)\n\u001b[0;32m--> 225\u001b[0m \u001b[38;5;28;01mraise\u001b[39;00m VisitationError(exc, exc_class, node) \u001b[38;5;28;01mfrom\u001b[39;00m \u001b[38;5;21;01mexc\u001b[39;00m\n",
      "\u001b[0;31mVisitationError\u001b[0m: AssertionError: {'kind': 'call_block', 'children': [{'kind': 'CALL', 'text': 'call'}, {'kind': 'WS', 'text': ' '}, {'kind': 'LCB', 'text': '{'}, {'kind': 'WS', 'text': '\\n        '}, {'kind': '', 'text': ''}, {'kind': '', 'children': [{'kind': '', 'children': [{'kind': 'entry_stmt', 'children': [{'kind': 'ENTRY', 'text': 'entry'}, {'kind': 'WS', 'text': ' '}, {'kind': 'identifier', 'text': 'mmlu_annot'}, {'kind': 'WS', 'text': ''}, {'kind': 'SC', 'text': ';'}]}, {'kind': 'WS', 'text': '\\n        '}]}]}, {'kind': '', 'children': [{'kind': '', 'children': [{'kind': 'kwarg_stmt', 'children': [{'kind': 'KWARG', 'text': 'kwarg'}, {'kind': 'WS', 'text': ' '}, {'kind': 'identifier', 'text': 'topic'}, {'kind': 'WS', 'text': '    '}, {'kind': '', 'children': [{'kind': 'kwarg_from_stmt', 'children': [{'kind': 'FROM', 'text': 'from'}, {'kind': 'WS', 'text': ' '}, Path(steps=[Step(name='topic', slice=None)], is_input=True, prompt=None)]}]}, {'kind': 'WS', 'text': ''}, {'kind': 'SC', 'text': ';'}]}, {'kind': 'WS', 'text': '\\n        '}]}, {'kind': '', 'children': [{'kind': 'kwarg_stmt', 'children': [{'kind': 'KWARG', 'text': 'kwarg'}, {'kind': 'WS', 'text': ' '}, {'kind': 'identifier', 'text': 'question'}, {'kind': 'WS', 'text': ' '}, {'kind': '', 'children': [{'kind': 'kwarg_from_stmt', 'children': [{'kind': 'FROM', 'text': 'from'}, {'kind': 'WS', 'text': ' '}, Path(steps=[Step(name='question', slice=None)], is_input=True, prompt=None)]}]}, {'kind': 'WS', 'text': ''}, {'kind': 'SC', 'text': ';'}]}, {'kind': 'WS', 'text': '\\n        '}]}, {'kind': '', 'children': [{'kind': 'kwarg_stmt', 'children': [{'kind': 'KWARG', 'text': 'kwarg'}, {'kind': 'WS', 'text': ' '}, {'kind': 'identifier', 'text': 'choice'}, {'kind': 'WS', 'text': '   '}, {'kind': '', 'children': [{'kind': 'kwarg_map_stmt', 'children': [{'kind': 'MAP', 'text': 'map'}, {'kind': 'WS', 'text': '  '}, Path(steps=[Step(name='choices', slice=None)], is_input=True, prompt=None)]}]}, {'kind': 'WS', 'text': ''}, {'kind': 'SC', 'text': ';'}]}, {'kind': 'WS', 'text': '\\n        '}]}]}, {'kind': '', 'children': [{'kind': '', 'children': [{'kind': 'bind_stmt', 'children': [{'kind': 'BIND', 'text': 'bind'}, {'kind': 'WS', 'text': ' '}, {'kind': 'identifier', 'text': 'choice'}, {'kind': 'WS', 'text': ' '}, {'kind': 'AS', 'text': 'as'}, {'kind': 'WS', 'text': ' '}, {'kind': 'identifier', 'text': 'value'}, {'kind': 'WS', 'text': ''}, {'kind': 'SC', 'text': ';'}]}, {'kind': 'WS', 'text': '\\n    '}]}]}, {'kind': 'RCB', 'text': '}'}]}\n\nParse tree:\n<Node called \"channel_stmt\" matching \"to .choices call {\n        entry mmlu_annot;\n        kwarg topic    from ?topic;\n        kwarg question from ?question;\n        kwarg choice   map  ?choices;\n        bind choice as value;\n    }\">  <-- *** We were here. ***\n    <Node called \"TO\" matching \"to\">\n    <RegexNode called \"WS\" matching \" \">\n    <Node called \"local_path_expr\" matching \".choices\">\n        <Node called \"PERIOD\" matching \".\">\n        <Node called \"sub_path_expr\" matching \"choices\">\n            <Node called \"path_step\" matching \"choices\">\n                <RegexNode called \"identifier\" matching \"choices\">\n                <Node matching \"\">\n            <Node matching \"\">\n    <RegexNode called \"WS\" matching \" \">\n    <Node matching \"call {\n            entry mmlu_annot;\n            kwarg topic    from ?topic;\n            kwarg question from ?question;\n            kwarg choice   map  ?choices;\n            bind choice as value;\n        }\">\n        <Node called \"call_block\" matching \"call {\n                entry mmlu_annot;\n                kwarg topic    from ?topic;\n                kwarg question from ?question;\n                kwarg choice   map  ?choices;\n                bind choice as value;\n            }\">\n            <Node called \"CALL\" matching \"call\">\n            <RegexNode called \"WS\" matching \" \">\n            <Node called \"LCB\" matching \"{\">\n            <RegexNode called \"WS\" matching \"\n                    \">\n            <Node matching \"\">\n            <Node matching \"entry mmlu_annot;\n                    \">\n                <Node matching \"entry mmlu_annot;\n                        \">\n                    <Node called \"entry_stmt\" matching \"entry mmlu_annot;\">\n                        <Node called \"ENTRY\" matching \"entry\">\n                        <RegexNode called \"WS\" matching \" \">\n                        <RegexNode called \"identifier\" matching \"mmlu_annot\">\n                        <RegexNode called \"WS\" matching \"\">\n                        <Node called \"SC\" matching \";\">\n                    <RegexNode called \"WS\" matching \"\n                            \">\n            <Node matching \"kwarg topic    from ?topic;\n                    kwarg question from ?question;\n                    kwarg choice   map  ?choices;\n                    \">\n                <Node matching \"kwarg topic    from ?topic;\n                        \">\n                    <Node called \"kwarg_stmt\" matching \"kwarg topic    from ?topic;\">\n                        <Node called \"KWARG\" matching \"kwarg\">\n                        <RegexNode called \"WS\" matching \" \">\n                        <RegexNode called \"identifier\" matching \"topic\">\n                        <RegexNode called \"WS\" matching \"    \">\n                        <Node matching \"from ?topic\">\n                            <Node called \"kwarg_from_stmt\" matching \"from ?topic\">\n                                <Node called \"FROM\" matching \"from\">\n                                <RegexNode called \"WS\" matching \" \">\n                                <Node called \"path_expr\" matching \"?topic\">\n                                    <Node called \"input_path_expr\" matching \"?topic\">\n                                        <Node called \"QMARK\" matching \"?\">\n                                        <Node called \"sub_path_expr\" matching \"topic\">\n                                            <Node called \"path_step\" matching \"topic\">\n                                                <RegexNode called \"identifier\" matching \"topic\">\n                                                <Node matching \"\">\n                                            <Node matching \"\">\n                        <RegexNode called \"WS\" matching \"\">\n                        <Node called \"SC\" matching \";\">\n                    <RegexNode called \"WS\" matching \"\n                            \">\n                <Node matching \"kwarg question from ?question;\n                        \">\n                    <Node called \"kwarg_stmt\" matching \"kwarg question from ?question;\">\n                        <Node called \"KWARG\" matching \"kwarg\">\n                        <RegexNode called \"WS\" matching \" \">\n                        <RegexNode called \"identifier\" matching \"question\">\n                        <RegexNode called \"WS\" matching \" \">\n                        <Node matching \"from ?question\">\n                            <Node called \"kwarg_from_stmt\" matching \"from ?question\">\n                                <Node called \"FROM\" matching \"from\">\n                                <RegexNode called \"WS\" matching \" \">\n                                <Node called \"path_expr\" matching \"?question\">\n                                    <Node called \"input_path_expr\" matching \"?question\">\n                                        <Node called \"QMARK\" matching \"?\">\n                                        <Node called \"sub_path_expr\" matching \"question\">\n                                            <Node called \"path_step\" matching \"question\">\n                                                <RegexNode called \"identifier\" matching \"question\">\n                                                <Node matching \"\">\n                                            <Node matching \"\">\n                        <RegexNode called \"WS\" matching \"\">\n                        <Node called \"SC\" matching \";\">\n                    <RegexNode called \"WS\" matching \"\n                            \">\n                <Node matching \"kwarg choice   map  ?choices;\n                        \">\n                    <Node called \"kwarg_stmt\" matching \"kwarg choice   map  ?choices;\">\n                        <Node called \"KWARG\" matching \"kwarg\">\n                        <RegexNode called \"WS\" matching \" \">\n                        <RegexNode called \"identifier\" matching \"choice\">\n                        <RegexNode called \"WS\" matching \"   \">\n                        <Node matching \"map  ?choices\">\n                            <Node called \"kwarg_map_stmt\" matching \"map  ?choices\">\n                                <Node called \"MAP\" matching \"map\">\n                                <RegexNode called \"WS\" matching \"  \">\n                                <Node called \"path_expr\" matching \"?choices\">\n                                    <Node called \"input_path_expr\" matching \"?choices\">\n                                        <Node called \"QMARK\" matching \"?\">\n                                        <Node called \"sub_path_expr\" matching \"choices\">\n                                            <Node called \"path_step\" matching \"choices\">\n                                                <RegexNode called \"identifier\" matching \"choices\">\n                                                <Node matching \"\">\n                                            <Node matching \"\">\n                        <RegexNode called \"WS\" matching \"\">\n                        <Node called \"SC\" matching \";\">\n                    <RegexNode called \"WS\" matching \"\n                            \">\n            <Node matching \"bind choice as value;\n                \">\n                <Node matching \"bind choice as value;\n                    \">\n                    <Node called \"bind_stmt\" matching \"bind choice as value;\">\n                        <Node called \"BIND\" matching \"bind\">\n                        <RegexNode called \"WS\" matching \" \">\n                        <RegexNode called \"identifier\" matching \"choice\">\n                        <RegexNode called \"WS\" matching \" \">\n                        <Node called \"AS\" matching \"as\">\n                        <RegexNode called \"WS\" matching \" \">\n                        <RegexNode called \"identifier\" matching \"value\">\n                        <RegexNode called \"WS\" matching \"\">\n                        <Node called \"SC\" matching \";\">\n                    <RegexNode called \"WS\" matching \"\n                        \">\n            <Node called \"RCB\" matching \"}\">"
     ]
    }
   ],
   "source": [
    "tree = wrap_frontend(\"\"\"channel {\n",
    "    to .choices call {\n",
    "        entry mmlu_annot;\n",
    "        kwarg topic    from ?topic;\n",
    "        kwarg question from ?question;\n",
    "        kwarg choice   map  ?choices;\n",
    "        bind choice as value;\n",
    "    }\n",
    "}\"\"\", rule='channel_block', display_parse_tree=False)\n",
    "dotstr = tree.toGraphViz()\n",
    "print(dotstr)\n",
    "wrap_graphviz(dotstr)"
   ]
  },
  {
   "cell_type": "code",
   "execution_count": null,
   "id": "c61d6306-dd8d-4ebc-95e8-702ec324504b",
   "metadata": {
    "tags": []
   },
   "outputs": [],
   "source": [
    "tree = wrap_frontend(programs[-1])\n",
    "dotstr = tree.toGraphViz()\n",
    "print(dotstr)\n",
    "wrap_graphviz(dotstr)"
   ]
  },
  {
   "cell_type": "code",
   "execution_count": null,
   "id": "0b00f211-410d-473e-9795-8f9ca8d57b0d",
   "metadata": {
    "tags": []
   },
   "outputs": [],
   "source": [
    "for program in programs[1:]:\n",
    "    display(wrap_graphviz(frontend(program).toGraphViz()))"
   ]
  },
  {
   "cell_type": "code",
   "execution_count": null,
   "id": "5a9ec102-4ad5-4afe-ad7a-2a2a2e3095f0",
   "metadata": {},
   "outputs": [],
   "source": []
  }
 ],
 "metadata": {
  "kernelspec": {
   "display_name": "Python 3 (ipykernel)",
   "language": "python",
   "name": "python3"
  },
  "language_info": {
   "codemirror_mode": {
    "name": "ipython",
    "version": 3
   },
   "file_extension": ".py",
   "mimetype": "text/x-python",
   "name": "python",
   "nbconvert_exporter": "python",
   "pygments_lexer": "ipython3",
   "version": "3.8.10"
  }
 },
 "nbformat": 4,
 "nbformat_minor": 5
}
