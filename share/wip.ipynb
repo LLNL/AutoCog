{
 "cells": [
  {
   "cell_type": "code",
   "execution_count": 1,
   "id": "9d781efe-6b68-4ea9-b39a-1e112f47e31a",
   "metadata": {
    "tags": []
   },
   "outputs": [
    {
     "name": "stdout",
     "output_type": "stream",
     "text": [
      "Warning: Package `transformers` needed for (Huggingface's) transformers wrapper\n"
     ]
    }
   ],
   "source": [
    "import os, sys, json\n",
    "\n",
    "autocog_home = os.path.realpath(f\"{os.getcwd()}/../\")\n",
    "sys.path.append(autocog_home)\n",
    "\n",
    "from autocog import CogArch\n",
    "from autocog.utility.models import loader\n",
    "from autocog.utility.pynb import wrap_graphviz, display"
   ]
  },
  {
   "cell_type": "code",
   "execution_count": 2,
   "id": "7f95fe5c-fa44-426d-93ca-94cdd0acbdad",
   "metadata": {},
   "outputs": [],
   "source": [
    "model_names = [\n",
    "    'llama-2-7b.Q4_K_M',                       # wget https://huggingface.co/TheBloke/Llama-2-7B-GGUF/resolve/main/llama-2-7b.Q4_K_M.gguf\n",
    "    'llama-2-7b-chat.Q4_K_M',                  # wget https://huggingface.co/TheBloke/Llama-2-7B-Chat-GGUF/resolve/main/llama-2-7b-chat.Q4_K_M.gguf\n",
    "    'llama-2-13b-chat.Q4_K_M',                 # wget https://huggingface.co/TheBloke/Llama-2-13B-chat-GGUF/resolve/main/llama-2-13b-chat.Q4_K_M.gguf\n",
    "    'llama-2-13b-chat.Q5_K_M',                 # wget https://huggingface.co/TheBloke/Llama-2-13B-chat-GGUF/resolve/main/llama-2-13b-chat.Q5_K_M.gguf\n",
    "    'llama-2-13b-chat.Q8_0',                   # wget https://huggingface.co/TheBloke/Llama-2-13B-chat-GGUF/resolve/main/llama-2-13b-chat.Q8_0.gguf\n",
    "    'tinyllama-1.1b-chat-v0.3.Q4_K_M',         # wget https://huggingface.co/TheBloke/TinyLlama-1.1B-Chat-v0.3-GGUF/resolve/main/tinyllama-1.1b-chat-v0.3.Q4_K_M.gguf\n",
    "    'tinyllama-2-1b-miniguanaco.Q4_K_M',       # wget https://huggingface.co/TheBloke/Tinyllama-2-1b-miniguanaco-GGUF/resolve/main/tinyllama-2-1b-miniguanaco.Q4_K_M.gguf\n",
    "    'capybarahermes-2.5-mistral-7b.Q4_K_M'     # wget https://huggingface.co/TheBloke/CapybaraHermes-2.5-Mistral-7B-GGUF/resolve/main/capybarahermes-2.5-mistral-7b.Q4_K_M.gguf\n",
    "]\n",
    "(lm,syntax) = loader(\n",
    "    models_path=f\"/data/models/{model_names[1]}.gguf\",\n",
    "    prompt_with_format=False,\n",
    "    prompt_with_index=False,\n",
    "    prompt_indent='  '\n",
    ")"
   ]
  },
  {
   "cell_type": "code",
   "execution_count": 3,
   "id": "1551e566-0746-4310-bb9f-01ebb402e286",
   "metadata": {},
   "outputs": [],
   "source": [
    "arch = CogArch(lm=lm, syntax=syntax)\n",
    "\n",
    "mmlu_cogs = [\n",
    "    arch.load('mcq.repeat.base',  filepath=f\"@mcq/repeat.sta\"),\n",
    "    arch.load('mcq.repeat.cot',   filepath=f\"@mcq/repeat-cot.sta\"),\n",
    "    arch.load('mcq.repeat.hyp',   filepath=f\"@mcq/repeat-hyp.sta\"),\n",
    "    arch.load('mcq.repeat.iter',  filepath=f\"@mcq/repeat-iter.sta\"),\n",
    "    arch.load('mcq.repeat.annot', filepath=f\"@mcq/repeat-annot.sta\"),\n",
    "    arch.load('mcq.select.base',  filepath=f\"@mcq/select.sta\"),\n",
    "    arch.load('mcq.select.cot',   filepath=f\"@mcq/select-cot.sta\"),\n",
    "    arch.load('mcq.select.hyp',   filepath=f\"@mcq/select-hyp.sta\"),\n",
    "    arch.load('mcq.select.iter',  filepath=f\"@mcq/select-iter.sta\"),\n",
    "    arch.load('mcq.select.annot', filepath=f\"@mcq/select-annot.sta\")\n",
    "]\n",
    "\n",
    "mmlu_data = [\n",
    "    {\n",
    "        \"topic\"    : \"arithmetic\",\n",
    "        \"question\" : \"What is 3*4+9?\",\n",
    "        \"choices\"  : [ \"16\", \"21\", \"39\", \"42\" ]\n",
    "    }\n",
    "]\n",
    "\n",
    "arith_cogs = [\n",
    "    arch.load('elementary.multiply.single', filepath=f\"@elementary/multiply-single.sta\"),\n",
    "    arch.load('elementary.multiply.chain',  filepath=f\"@elementary/multiply-chain.sta\")\n",
    "]\n",
    "\n",
    "arith_data = [\n",
    "    {\n",
    "        \"problem\" : \"What is the product of 392 and 42?\"\n",
    "    }\n",
    "]"
   ]
  },
  {
   "cell_type": "code",
   "execution_count": 4,
   "id": "e18b7dfa-870e-402c-9182-39835c97a0b8",
   "metadata": {},
   "outputs": [],
   "source": [
    "# TODO node prefixed by prompt name\n",
    "# dotstr = '\\n'.join([ prompt.toGraphViz_concrete() for prompt in arith_cogs[0].prompts.values() ])\n",
    "# dotstr = arith_cogs[0].prompts['main'].instantiate(syntax=arch.syntax, stacks={}, branches={}, inputs=arith_data[0]).toGraphViz()\n",
    "# display(wrap_graphviz(dotstr))"
   ]
  },
  {
   "cell_type": "code",
   "execution_count": 5,
   "id": "5ba3b7e1-a2a5-4df8-9c4f-3c943a423d00",
   "metadata": {},
   "outputs": [
    {
     "data": {
      "text/plain": [
       "['42', '21', '42', '16', '42', 2, 2, 2, 2, 2]"
      ]
     },
     "execution_count": 5,
     "metadata": {},
     "output_type": "execute_result"
    }
   ],
   "source": [
    "tags = [\n",
    "    'mcq.repeat.base', 'mcq.repeat.cot', 'mcq.repeat.hyp', 'mcq.repeat.iter', 'mcq.repeat.annot',\n",
    "    'mcq.select.base', 'mcq.select.cot', 'mcq.select.hyp', 'mcq.select.iter', 'mcq.select.annot'\n",
    "]\n",
    "# tags = [ 'mmlu-repeat-cot', 'mmlu-select-cot' ]\n",
    "results = [ await arch(tag, **data) for tag in tags for data in mmlu_data ]\n",
    "# arith_results = [ await cog(**data) for cog in arith_cogs for data in arith_data ]\n",
    "results"
   ]
  },
  {
   "cell_type": "code",
   "execution_count": 6,
   "id": "4fd250b0-58d1-4d09-8a8d-d860af8a8493",
   "metadata": {},
   "outputs": [
    {
     "name": "stdout",
     "output_type": "stream",
     "text": [
      "p=0.6638551711390864\n",
      "---------------------\n",
      "\n",
      "[INST] <<SYS>>\n",
      "You are an AI expert interacting with your environment using a set of interactive questionnaires.\n",
      "<</SYS>>\n",
      "You are answering a multiple choice questionnaire.\n",
      "You are using the following syntax:\n",
      "```\n",
      "start:\n",
      "  topic(text(20)): the general category from which the question was taken\n",
      "  question(text(50)): the question that you have to answer\n",
      "  choices(text(40))[4]: the four possible choices to answer the question, only one is correct\n",
      "  work(thought)[1:10]: show your work step-by-step\n",
      "  answer(select(choices)): you pick the index of the choice that best answer the question\n",
      "next: select which of return will be the next step.\n",
      "```\n",
      "It includes the folowing named formats:\n",
      "- thought: text(20)\n",
      "  - a short text representing a single thought, it does not have to be a proper sentence.\n",
      "[/INST]\n",
      "start:\n",
      "   topic: arithmetic\n",
      "   question: What is 3*4+9?\n",
      "   choices: 16\n",
      "   choices: 21\n",
      "   choices: 39\n",
      "   choices: 42\n",
      "   work:\n",
      "   work: 3*4 = 12\n",
      "   work: 12 + 9 = 21\n",
      "   answer: 3\n",
      " next:  return\n",
      "\n",
      "============================\n",
      "\n",
      "p=0.7895269044180848\n",
      "---------------------\n",
      "\n",
      "[INST] <<SYS>>\n",
      "You are an AI expert interacting with your environment using a set of interactive questionnaires.\n",
      "<</SYS>>\n",
      "You are answering a multiple choice questionnaire.\n",
      "You are using the following syntax:\n",
      "```\n",
      "start:\n",
      "  topic(text(20)): the general category from which the question was taken\n",
      "  question(text(50)): the question that you have to answer\n",
      "  choices(text(40))[4]: the four possible choices to answer the question, only one is correct\n",
      "  work(thought)[1:10]: show your work step-by-step\n",
      "  answer(select(choices)): you pick the index of the choice that best answer the question\n",
      "next: select which of return will be the next step.\n",
      "```\n",
      "It includes the folowing named formats:\n",
      "- thought: text(20)\n",
      "  - a short text representing a single thought, it does not have to be a proper sentence.\n",
      "[/INST]\n",
      "start:\n",
      "   topic: arithmetic\n",
      "   question: What is 3*4+9?\n",
      "   choices: 16\n",
      "   choices: 21\n",
      "   choices: 39\n",
      "   choices: 42\n",
      "   work:\n",
      "   work: 3*4 = 12\n",
      "   work: 12 + 9 = 21\n",
      "   answer: 2\n",
      " next:  return\n",
      "\n",
      "============================\n",
      "\n"
     ]
    }
   ],
   "source": [
    "# TODO inspect function...\n",
    "import numpy\n",
    "scoring = lambda probas: numpy.power(numpy.prod(probas), 1./len(probas))\n",
    "texts = arch.orchestrator.pages[-8].ftts['main'][-1].results(lm)\n",
    "for text in texts[-2:]:\n",
    "    print(f\"p={text[1]}\\n---------------------\\n\\n{text[0]}\\n\\n============================\\n\")"
   ]
  },
  {
   "cell_type": "code",
   "execution_count": 7,
   "id": "dd5ec2ff-e157-4e82-bba6-4c5b11f52aea",
   "metadata": {},
   "outputs": [],
   "source": [
    "# arch.orchestrator.pages[-1].ftts['main'][-1].toGraphViz(lm)"
   ]
  },
  {
   "cell_type": "raw",
   "id": "0d79deeb-6d55-4223-b77c-20064340e49d",
   "metadata": {
    "tags": []
   },
   "source": [
    "# This was a stress test for compilation phases (after frontend):\n",
    "#  - IR -> abstract       (compile-time)\n",
    "#  - abstract -> concrete (compile-time)\n",
    "#  - concrete -> finite   (runtime: need dataflow)\n",
    "# Need to be moved to a test.\n",
    "\n",
    "source = \"\"\"\n",
    "format bool {\n",
    "    is enum(\"true\",\"false\");\n",
    "}\n",
    "prompt main {\n",
    "    is {\n",
    "        A is bool;\n",
    "        B[0:2] is {\n",
    "            C is bool;\n",
    "            D[2:4] is bool;\n",
    "        }\n",
    "        E[0:2] is {\n",
    "          F is bool;\n",
    "        }\n",
    "        G is {\n",
    "          H is bool;\n",
    "          I is bool;\n",
    "        }\n",
    "        J is bool;\n",
    "    }\n",
    "    channel {\n",
    "        to .B.C from ?inC;\n",
    "        to .E   from ?inE;\n",
    "        to .G   from ?inG;\n",
    "    }\n",
    "}\"\"\"\n",
    "samples = [\n",
    "    (\n",
    "      {},\n",
    "      {\n",
    "        \"inC\" : [ 'true', 'false' ],\n",
    "        \"inE\" : [ { 'F' : 'true' } ],\n",
    "        \"inG\" : { 'H' : 'true' }\n",
    "      }\n",
    "    ),\n",
    "    (\n",
    "      {},\n",
    "      {\n",
    "        \"inC\" : [ 'true' ],\n",
    "        \"inE\" : [],\n",
    "        \"inG\" : { 'H' : 'true' }\n",
    "      }\n",
    "    )\n",
    "]"
   ]
  }
 ],
 "metadata": {
  "kernelspec": {
   "display_name": "Python 3 (ipykernel)",
   "language": "python",
   "name": "python3"
  },
  "language_info": {
   "codemirror_mode": {
    "name": "ipython",
    "version": 3
   },
   "file_extension": ".py",
   "mimetype": "text/x-python",
   "name": "python",
   "nbconvert_exporter": "python",
   "pygments_lexer": "ipython3",
   "version": "3.10.12"
  }
 },
 "nbformat": 4,
 "nbformat_minor": 5
}
