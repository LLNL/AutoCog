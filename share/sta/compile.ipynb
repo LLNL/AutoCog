{
 "cells": [
  {
   "cell_type": "code",
   "execution_count": 1,
   "id": "9d781efe-6b68-4ea9-b39a-1e112f47e31a",
   "metadata": {},
   "outputs": [
    {
     "name": "stdout",
     "output_type": "stream",
     "text": [
      "Warning: Package `openai` and `tiktoken` needed for OpenAI wrapper (`pip install openai tiktoken`)\n",
      "Warning: Package `transformers` needed for (Huggingface's) transformers wrapper\n"
     ]
    }
   ],
   "source": [
    "import os, sys, json\n",
    "sys.path.append(\"/workspace/AutoCog\")\n",
    "from autocog.language.sta.compile import Compiler\n",
    "from autocog.utility.pynb import wrap_graphviz, display"
   ]
  },
  {
   "cell_type": "code",
   "execution_count": 2,
   "id": "15e88733-d640-4ab5-b1c3-3277f93407da",
   "metadata": {},
   "outputs": [],
   "source": [
    "sources = [\"\"\"\n",
    "prompt mmlu_main {\n",
    "    is {\n",
    "        topic is text;\n",
    "        question is text;\n",
    "        choices[4] is {\n",
    "            value is text;\n",
    "            correct is enum(\"yes\",\"no\");\n",
    "        }\n",
    "        answer is repeat(.choices.value);\n",
    "    }\n",
    "    channel {\n",
    "        to .topic         from ?topic;\n",
    "        to .question      from ?question;\n",
    "        to .choices.value from ?choices;\n",
    "    }\n",
    "    return {\n",
    "        from .answer;\n",
    "    }\n",
    "    annotate {\n",
    "        .topic           as \"the general category from which the question was taken\";\n",
    "        .question        as \"the question that you have to answer\";\n",
    "        .choices         as \"you judge whether each choice is correct or not\";\n",
    "        .choices.value   as \"the value of the choice\";\n",
    "        .choices.correct as \"you decide whether this choice is correct or not\";\n",
    "        .answer          as \"you repeat the value of the choice that best answer the question\";\n",
    "    }\n",
    "}\"\"\",\"\"\"\n",
    "format bool {\n",
    "    is enum(\"true\",\"false\");\n",
    "    annotate \"a bolean value is either true or false\";\n",
    "}\n",
    "\n",
    "struct a_choice {\n",
    "    is {\n",
    "        value   is text;\n",
    "        correct is bool;\n",
    "    }\n",
    "    annotate {\n",
    "        .value   as \"the value of the choice\";\n",
    "        .correct as \"you decide whether this choice is correct or not\";\n",
    "    }\n",
    "}\n",
    "\n",
    "prompt mmlu_main {\n",
    "    is {\n",
    "        topic      is text<20>;\n",
    "        question   is text<length=50>;\n",
    "        choices[4] is a_choice;\n",
    "        answer     is repeat(.choices.value);\n",
    "    }\n",
    "    channel {\n",
    "        to .topic         from ?topic;\n",
    "        to .question      from ?question;\n",
    "        to .choices.value from ?choices;\n",
    "    }\n",
    "    return .answer;\n",
    "    annotate {\n",
    "        .topic    as \"the general category from which the question was taken\";\n",
    "        .question as \"the question that you have to answer\";\n",
    "        .choices  as \"you judge whether each choice is correct or not\";\n",
    "        .answer   as \"you repeat the value of the choice that best answer the question\";\n",
    "    }\n",
    "}\n",
    "\"\"\"]"
   ]
  },
  {
   "cell_type": "code",
   "execution_count": 3,
   "id": "9b0a9799-1a3e-4c05-9d84-f1c2e91cc2df",
   "metadata": {},
   "outputs": [
    {
     "name": "stdout",
     "output_type": "stream",
     "text": [
      "> topic(text): \n",
      "> question(text): \n",
      "> choices(record)[4]: \n",
      "> > value(text): \n",
      "> > correct(enum(\"yes\",\"no\")): \n",
      "> answer(repeat(choices.value)): \n",
      "--------------------\n",
      "- mmlu_main.topic: name='mmlu_main.topic' desc=[] annonymous=True length=None within=None\n",
      "- mmlu_main.question: name='mmlu_main.question' desc=[] annonymous=True length=None within=None\n",
      "- mmlu_main.choices.value: name='mmlu_main.choices.value' desc=[] annonymous=True length=None within=None\n",
      "- mmlu_main.choices.correct: name='mmlu_main.choices.correct' desc=[] annonymous=True values=['yes', 'no']\n",
      "- mmlu_main.answer: name='mmlu_main.answer' desc=[] annonymous=True path=Path(steps=[('choices', None), ('value', None)], is_input=False, prompt=None) mode='repeat'\n",
      "--------------------\n",
      "- mmlu_main.topic: name='topic' desc=[] depth=1 format=Completion(name='mmlu_main.topic', desc=[], annonymous=True, length=None, within=None) range=None parent=Prompt(name='mmlu_main', desc=[], fields=[Field(name='topic', desc=[], depth=1, format=Completion(name='mmlu_main.topic', desc=[], annonymous=True, length=None, within=None), range=None, parent=Prompt(name='mmlu_main', desc=[], fields=[...], channels=[])), Field(name='question', desc=[], depth=1, format=Completion(name='mmlu_main.question', desc=[], annonymous=True, length=None, within=None), range=None, parent=Prompt(name='mmlu_main', desc=[], fields=[...], channels=[])), Field(name='choices', desc=[], depth=1, format=None, range=(4, 4), parent=Prompt(name='mmlu_main', desc=[], fields=[...], channels=[])), Field(name='value', desc=[], depth=2, format=Completion(name='mmlu_main.choices.value', desc=[], annonymous=True, length=None, within=None), range=None, parent=Field(name='choices', desc=[], depth=1, format=None, range=(4, 4), parent=Prompt(name='mmlu_main', desc=[], fields=[...], channels=[]))), Field(name='correct', desc=[], depth=2, format=Enum(name='mmlu_main.choices.correct', desc=[], annonymous=True, values=['yes', 'no']), range=None, parent=Field(name='choices', desc=[], depth=1, format=None, range=(4, 4), parent=Prompt(name='mmlu_main', desc=[], fields=[...], channels=[]))), Field(name='answer', desc=[], depth=1, format=Choice(name='mmlu_main.answer', desc=[], annonymous=True, path=Path(steps=[('choices', None), ('value', None)], is_input=False, prompt=None), mode='repeat'), range=None, parent=Prompt(name='mmlu_main', desc=[], fields=[...], channels=[]))], channels=[])\n",
      "- mmlu_main.question: name='question' desc=[] depth=1 format=Completion(name='mmlu_main.question', desc=[], annonymous=True, length=None, within=None) range=None parent=Prompt(name='mmlu_main', desc=[], fields=[Field(name='topic', desc=[], depth=1, format=Completion(name='mmlu_main.topic', desc=[], annonymous=True, length=None, within=None), range=None, parent=Prompt(name='mmlu_main', desc=[], fields=[...], channels=[])), Field(name='question', desc=[], depth=1, format=Completion(name='mmlu_main.question', desc=[], annonymous=True, length=None, within=None), range=None, parent=Prompt(name='mmlu_main', desc=[], fields=[...], channels=[])), Field(name='choices', desc=[], depth=1, format=None, range=(4, 4), parent=Prompt(name='mmlu_main', desc=[], fields=[...], channels=[])), Field(name='value', desc=[], depth=2, format=Completion(name='mmlu_main.choices.value', desc=[], annonymous=True, length=None, within=None), range=None, parent=Field(name='choices', desc=[], depth=1, format=None, range=(4, 4), parent=Prompt(name='mmlu_main', desc=[], fields=[...], channels=[]))), Field(name='correct', desc=[], depth=2, format=Enum(name='mmlu_main.choices.correct', desc=[], annonymous=True, values=['yes', 'no']), range=None, parent=Field(name='choices', desc=[], depth=1, format=None, range=(4, 4), parent=Prompt(name='mmlu_main', desc=[], fields=[...], channels=[]))), Field(name='answer', desc=[], depth=1, format=Choice(name='mmlu_main.answer', desc=[], annonymous=True, path=Path(steps=[('choices', None), ('value', None)], is_input=False, prompt=None), mode='repeat'), range=None, parent=Prompt(name='mmlu_main', desc=[], fields=[...], channels=[]))], channels=[])\n",
      "- mmlu_main.choices: name='choices' desc=[] depth=1 format=None range=(4, 4) parent=Prompt(name='mmlu_main', desc=[], fields=[Field(name='topic', desc=[], depth=1, format=Completion(name='mmlu_main.topic', desc=[], annonymous=True, length=None, within=None), range=None, parent=Prompt(name='mmlu_main', desc=[], fields=[...], channels=[])), Field(name='question', desc=[], depth=1, format=Completion(name='mmlu_main.question', desc=[], annonymous=True, length=None, within=None), range=None, parent=Prompt(name='mmlu_main', desc=[], fields=[...], channels=[])), Field(name='choices', desc=[], depth=1, format=None, range=(4, 4), parent=Prompt(name='mmlu_main', desc=[], fields=[...], channels=[])), Field(name='value', desc=[], depth=2, format=Completion(name='mmlu_main.choices.value', desc=[], annonymous=True, length=None, within=None), range=None, parent=Field(name='choices', desc=[], depth=1, format=None, range=(4, 4), parent=Prompt(name='mmlu_main', desc=[], fields=[...], channels=[]))), Field(name='correct', desc=[], depth=2, format=Enum(name='mmlu_main.choices.correct', desc=[], annonymous=True, values=['yes', 'no']), range=None, parent=Field(name='choices', desc=[], depth=1, format=None, range=(4, 4), parent=Prompt(name='mmlu_main', desc=[], fields=[...], channels=[]))), Field(name='answer', desc=[], depth=1, format=Choice(name='mmlu_main.answer', desc=[], annonymous=True, path=Path(steps=[('choices', None), ('value', None)], is_input=False, prompt=None), mode='repeat'), range=None, parent=Prompt(name='mmlu_main', desc=[], fields=[...], channels=[]))], channels=[])\n",
      "- mmlu_main.choices.value: name='value' desc=[] depth=2 format=Completion(name='mmlu_main.choices.value', desc=[], annonymous=True, length=None, within=None) range=None parent=Field(name='choices', desc=[], depth=1, format=None, range=(4, 4), parent=Prompt(name='mmlu_main', desc=[], fields=[Field(name='topic', desc=[], depth=1, format=Completion(name='mmlu_main.topic', desc=[], annonymous=True, length=None, within=None), range=None, parent=Prompt(name='mmlu_main', desc=[], fields=[...], channels=[])), Field(name='question', desc=[], depth=1, format=Completion(name='mmlu_main.question', desc=[], annonymous=True, length=None, within=None), range=None, parent=Prompt(name='mmlu_main', desc=[], fields=[...], channels=[])), Field(name='choices', desc=[], depth=1, format=None, range=(4, 4), parent=Prompt(name='mmlu_main', desc=[], fields=[...], channels=[])), Field(name='value', desc=[], depth=2, format=Completion(name='mmlu_main.choices.value', desc=[], annonymous=True, length=None, within=None), range=None, parent=Field(name='choices', desc=[], depth=1, format=None, range=(4, 4), parent=Prompt(name='mmlu_main', desc=[], fields=[...], channels=[]))), Field(name='correct', desc=[], depth=2, format=Enum(name='mmlu_main.choices.correct', desc=[], annonymous=True, values=['yes', 'no']), range=None, parent=Field(name='choices', desc=[], depth=1, format=None, range=(4, 4), parent=Prompt(name='mmlu_main', desc=[], fields=[...], channels=[]))), Field(name='answer', desc=[], depth=1, format=Choice(name='mmlu_main.answer', desc=[], annonymous=True, path=Path(steps=[('choices', None), ('value', None)], is_input=False, prompt=None), mode='repeat'), range=None, parent=Prompt(name='mmlu_main', desc=[], fields=[...], channels=[]))], channels=[]))\n",
      "- mmlu_main.choices.correct: name='correct' desc=[] depth=2 format=Enum(name='mmlu_main.choices.correct', desc=[], annonymous=True, values=['yes', 'no']) range=None parent=Field(name='choices', desc=[], depth=1, format=None, range=(4, 4), parent=Prompt(name='mmlu_main', desc=[], fields=[Field(name='topic', desc=[], depth=1, format=Completion(name='mmlu_main.topic', desc=[], annonymous=True, length=None, within=None), range=None, parent=Prompt(name='mmlu_main', desc=[], fields=[...], channels=[])), Field(name='question', desc=[], depth=1, format=Completion(name='mmlu_main.question', desc=[], annonymous=True, length=None, within=None), range=None, parent=Prompt(name='mmlu_main', desc=[], fields=[...], channels=[])), Field(name='choices', desc=[], depth=1, format=None, range=(4, 4), parent=Prompt(name='mmlu_main', desc=[], fields=[...], channels=[])), Field(name='value', desc=[], depth=2, format=Completion(name='mmlu_main.choices.value', desc=[], annonymous=True, length=None, within=None), range=None, parent=Field(name='choices', desc=[], depth=1, format=None, range=(4, 4), parent=Prompt(name='mmlu_main', desc=[], fields=[...], channels=[]))), Field(name='correct', desc=[], depth=2, format=Enum(name='mmlu_main.choices.correct', desc=[], annonymous=True, values=['yes', 'no']), range=None, parent=Field(name='choices', desc=[], depth=1, format=None, range=(4, 4), parent=Prompt(name='mmlu_main', desc=[], fields=[...], channels=[]))), Field(name='answer', desc=[], depth=1, format=Choice(name='mmlu_main.answer', desc=[], annonymous=True, path=Path(steps=[('choices', None), ('value', None)], is_input=False, prompt=None), mode='repeat'), range=None, parent=Prompt(name='mmlu_main', desc=[], fields=[...], channels=[]))], channels=[]))\n",
      "- mmlu_main.answer: name='answer' desc=[] depth=1 format=Choice(name='mmlu_main.answer', desc=[], annonymous=True, path=Path(steps=[('choices', None), ('value', None)], is_input=False, prompt=None), mode='repeat') range=None parent=Prompt(name='mmlu_main', desc=[], fields=[Field(name='topic', desc=[], depth=1, format=Completion(name='mmlu_main.topic', desc=[], annonymous=True, length=None, within=None), range=None, parent=Prompt(name='mmlu_main', desc=[], fields=[...], channels=[])), Field(name='question', desc=[], depth=1, format=Completion(name='mmlu_main.question', desc=[], annonymous=True, length=None, within=None), range=None, parent=Prompt(name='mmlu_main', desc=[], fields=[...], channels=[])), Field(name='choices', desc=[], depth=1, format=None, range=(4, 4), parent=Prompt(name='mmlu_main', desc=[], fields=[...], channels=[])), Field(name='value', desc=[], depth=2, format=Completion(name='mmlu_main.choices.value', desc=[], annonymous=True, length=None, within=None), range=None, parent=Field(name='choices', desc=[], depth=1, format=None, range=(4, 4), parent=Prompt(name='mmlu_main', desc=[], fields=[...], channels=[]))), Field(name='correct', desc=[], depth=2, format=Enum(name='mmlu_main.choices.correct', desc=[], annonymous=True, values=['yes', 'no']), range=None, parent=Field(name='choices', desc=[], depth=1, format=None, range=(4, 4), parent=Prompt(name='mmlu_main', desc=[], fields=[...], channels=[]))), Field(name='answer', desc=[], depth=1, format=Choice(name='mmlu_main.answer', desc=[], annonymous=True, path=Path(steps=[('choices', None), ('value', None)], is_input=False, prompt=None), mode='repeat'), range=None, parent=Prompt(name='mmlu_main', desc=[], fields=[...], channels=[]))], channels=[])\n",
      "====================\n",
      "> topic(text(20)): \n",
      "> question(text(50)): \n",
      "> choices(record)[4]: \n",
      "> > value(text): \n",
      "> > correct(enum(\"true\",\"false\")): \n",
      "> answer(repeat(choices.value)): \n",
      "--------------------\n",
      "- mmlu_main.topic: name='mmlu_main.topic' desc=[] annonymous=True length=20 within=None\n",
      "- mmlu_main.question: name='mmlu_main.question' desc=[] annonymous=True length=50 within=None\n",
      "- mmlu_main.choices.value: name='mmlu_main.choices.value' desc=[] annonymous=True length=None within=None\n",
      "- mmlu_main.choices.correct.bool: name='mmlu_main.choices.correct.bool' desc=[] annonymous=True values=['true', 'false']\n",
      "- mmlu_main.answer: name='mmlu_main.answer' desc=[] annonymous=True path=Path(steps=[('choices', None), ('value', None)], is_input=False, prompt=None) mode='repeat'\n",
      "--------------------\n",
      "- mmlu_main.topic: name='topic' desc=[] depth=1 format=Completion(name='mmlu_main.topic', desc=[], annonymous=True, length=20, within=None) range=None parent=Prompt(name='mmlu_main', desc=[], fields=[Field(name='topic', desc=[], depth=1, format=Completion(name='mmlu_main.topic', desc=[], annonymous=True, length=20, within=None), range=None, parent=Prompt(name='mmlu_main', desc=[], fields=[...], channels=[])), Field(name='question', desc=[], depth=1, format=Completion(name='mmlu_main.question', desc=[], annonymous=True, length=50, within=None), range=None, parent=Prompt(name='mmlu_main', desc=[], fields=[...], channels=[])), Field(name='choices', desc=[], depth=1, format=None, range=(4, 4), parent=Prompt(name='mmlu_main', desc=[], fields=[...], channels=[])), Field(name='value', desc=[], depth=2, format=Completion(name='mmlu_main.choices.value', desc=[], annonymous=True, length=None, within=None), range=None, parent=Field(name='choices', desc=[], depth=1, format=None, range=(4, 4), parent=Prompt(name='mmlu_main', desc=[], fields=[...], channels=[]))), Field(name='correct', desc=[], depth=2, format=Enum(name='mmlu_main.choices.correct.bool', desc=[], annonymous=True, values=['true', 'false']), range=None, parent=Field(name='choices', desc=[], depth=1, format=None, range=(4, 4), parent=Prompt(name='mmlu_main', desc=[], fields=[...], channels=[]))), Field(name='answer', desc=[], depth=1, format=Choice(name='mmlu_main.answer', desc=[], annonymous=True, path=Path(steps=[('choices', None), ('value', None)], is_input=False, prompt=None), mode='repeat'), range=None, parent=Prompt(name='mmlu_main', desc=[], fields=[...], channels=[]))], channels=[])\n",
      "- mmlu_main.question: name='question' desc=[] depth=1 format=Completion(name='mmlu_main.question', desc=[], annonymous=True, length=50, within=None) range=None parent=Prompt(name='mmlu_main', desc=[], fields=[Field(name='topic', desc=[], depth=1, format=Completion(name='mmlu_main.topic', desc=[], annonymous=True, length=20, within=None), range=None, parent=Prompt(name='mmlu_main', desc=[], fields=[...], channels=[])), Field(name='question', desc=[], depth=1, format=Completion(name='mmlu_main.question', desc=[], annonymous=True, length=50, within=None), range=None, parent=Prompt(name='mmlu_main', desc=[], fields=[...], channels=[])), Field(name='choices', desc=[], depth=1, format=None, range=(4, 4), parent=Prompt(name='mmlu_main', desc=[], fields=[...], channels=[])), Field(name='value', desc=[], depth=2, format=Completion(name='mmlu_main.choices.value', desc=[], annonymous=True, length=None, within=None), range=None, parent=Field(name='choices', desc=[], depth=1, format=None, range=(4, 4), parent=Prompt(name='mmlu_main', desc=[], fields=[...], channels=[]))), Field(name='correct', desc=[], depth=2, format=Enum(name='mmlu_main.choices.correct.bool', desc=[], annonymous=True, values=['true', 'false']), range=None, parent=Field(name='choices', desc=[], depth=1, format=None, range=(4, 4), parent=Prompt(name='mmlu_main', desc=[], fields=[...], channels=[]))), Field(name='answer', desc=[], depth=1, format=Choice(name='mmlu_main.answer', desc=[], annonymous=True, path=Path(steps=[('choices', None), ('value', None)], is_input=False, prompt=None), mode='repeat'), range=None, parent=Prompt(name='mmlu_main', desc=[], fields=[...], channels=[]))], channels=[])\n",
      "- mmlu_main.choices: name='choices' desc=[] depth=1 format=None range=(4, 4) parent=Prompt(name='mmlu_main', desc=[], fields=[Field(name='topic', desc=[], depth=1, format=Completion(name='mmlu_main.topic', desc=[], annonymous=True, length=20, within=None), range=None, parent=Prompt(name='mmlu_main', desc=[], fields=[...], channels=[])), Field(name='question', desc=[], depth=1, format=Completion(name='mmlu_main.question', desc=[], annonymous=True, length=50, within=None), range=None, parent=Prompt(name='mmlu_main', desc=[], fields=[...], channels=[])), Field(name='choices', desc=[], depth=1, format=None, range=(4, 4), parent=Prompt(name='mmlu_main', desc=[], fields=[...], channels=[])), Field(name='value', desc=[], depth=2, format=Completion(name='mmlu_main.choices.value', desc=[], annonymous=True, length=None, within=None), range=None, parent=Field(name='choices', desc=[], depth=1, format=None, range=(4, 4), parent=Prompt(name='mmlu_main', desc=[], fields=[...], channels=[]))), Field(name='correct', desc=[], depth=2, format=Enum(name='mmlu_main.choices.correct.bool', desc=[], annonymous=True, values=['true', 'false']), range=None, parent=Field(name='choices', desc=[], depth=1, format=None, range=(4, 4), parent=Prompt(name='mmlu_main', desc=[], fields=[...], channels=[]))), Field(name='answer', desc=[], depth=1, format=Choice(name='mmlu_main.answer', desc=[], annonymous=True, path=Path(steps=[('choices', None), ('value', None)], is_input=False, prompt=None), mode='repeat'), range=None, parent=Prompt(name='mmlu_main', desc=[], fields=[...], channels=[]))], channels=[])\n",
      "- mmlu_main.choices.value: name='value' desc=[] depth=2 format=Completion(name='mmlu_main.choices.value', desc=[], annonymous=True, length=None, within=None) range=None parent=Field(name='choices', desc=[], depth=1, format=None, range=(4, 4), parent=Prompt(name='mmlu_main', desc=[], fields=[Field(name='topic', desc=[], depth=1, format=Completion(name='mmlu_main.topic', desc=[], annonymous=True, length=20, within=None), range=None, parent=Prompt(name='mmlu_main', desc=[], fields=[...], channels=[])), Field(name='question', desc=[], depth=1, format=Completion(name='mmlu_main.question', desc=[], annonymous=True, length=50, within=None), range=None, parent=Prompt(name='mmlu_main', desc=[], fields=[...], channels=[])), Field(name='choices', desc=[], depth=1, format=None, range=(4, 4), parent=Prompt(name='mmlu_main', desc=[], fields=[...], channels=[])), Field(name='value', desc=[], depth=2, format=Completion(name='mmlu_main.choices.value', desc=[], annonymous=True, length=None, within=None), range=None, parent=Field(name='choices', desc=[], depth=1, format=None, range=(4, 4), parent=Prompt(name='mmlu_main', desc=[], fields=[...], channels=[]))), Field(name='correct', desc=[], depth=2, format=Enum(name='mmlu_main.choices.correct.bool', desc=[], annonymous=True, values=['true', 'false']), range=None, parent=Field(name='choices', desc=[], depth=1, format=None, range=(4, 4), parent=Prompt(name='mmlu_main', desc=[], fields=[...], channels=[]))), Field(name='answer', desc=[], depth=1, format=Choice(name='mmlu_main.answer', desc=[], annonymous=True, path=Path(steps=[('choices', None), ('value', None)], is_input=False, prompt=None), mode='repeat'), range=None, parent=Prompt(name='mmlu_main', desc=[], fields=[...], channels=[]))], channels=[]))\n",
      "- mmlu_main.choices.correct: name='correct' desc=[] depth=2 format=Enum(name='mmlu_main.choices.correct.bool', desc=[], annonymous=True, values=['true', 'false']) range=None parent=Field(name='choices', desc=[], depth=1, format=None, range=(4, 4), parent=Prompt(name='mmlu_main', desc=[], fields=[Field(name='topic', desc=[], depth=1, format=Completion(name='mmlu_main.topic', desc=[], annonymous=True, length=20, within=None), range=None, parent=Prompt(name='mmlu_main', desc=[], fields=[...], channels=[])), Field(name='question', desc=[], depth=1, format=Completion(name='mmlu_main.question', desc=[], annonymous=True, length=50, within=None), range=None, parent=Prompt(name='mmlu_main', desc=[], fields=[...], channels=[])), Field(name='choices', desc=[], depth=1, format=None, range=(4, 4), parent=Prompt(name='mmlu_main', desc=[], fields=[...], channels=[])), Field(name='value', desc=[], depth=2, format=Completion(name='mmlu_main.choices.value', desc=[], annonymous=True, length=None, within=None), range=None, parent=Field(name='choices', desc=[], depth=1, format=None, range=(4, 4), parent=Prompt(name='mmlu_main', desc=[], fields=[...], channels=[]))), Field(name='correct', desc=[], depth=2, format=Enum(name='mmlu_main.choices.correct.bool', desc=[], annonymous=True, values=['true', 'false']), range=None, parent=Field(name='choices', desc=[], depth=1, format=None, range=(4, 4), parent=Prompt(name='mmlu_main', desc=[], fields=[...], channels=[]))), Field(name='answer', desc=[], depth=1, format=Choice(name='mmlu_main.answer', desc=[], annonymous=True, path=Path(steps=[('choices', None), ('value', None)], is_input=False, prompt=None), mode='repeat'), range=None, parent=Prompt(name='mmlu_main', desc=[], fields=[...], channels=[]))], channels=[]))\n",
      "- mmlu_main.answer: name='answer' desc=[] depth=1 format=Choice(name='mmlu_main.answer', desc=[], annonymous=True, path=Path(steps=[('choices', None), ('value', None)], is_input=False, prompt=None), mode='repeat') range=None parent=Prompt(name='mmlu_main', desc=[], fields=[Field(name='topic', desc=[], depth=1, format=Completion(name='mmlu_main.topic', desc=[], annonymous=True, length=20, within=None), range=None, parent=Prompt(name='mmlu_main', desc=[], fields=[...], channels=[])), Field(name='question', desc=[], depth=1, format=Completion(name='mmlu_main.question', desc=[], annonymous=True, length=50, within=None), range=None, parent=Prompt(name='mmlu_main', desc=[], fields=[...], channels=[])), Field(name='choices', desc=[], depth=1, format=None, range=(4, 4), parent=Prompt(name='mmlu_main', desc=[], fields=[...], channels=[])), Field(name='value', desc=[], depth=2, format=Completion(name='mmlu_main.choices.value', desc=[], annonymous=True, length=None, within=None), range=None, parent=Field(name='choices', desc=[], depth=1, format=None, range=(4, 4), parent=Prompt(name='mmlu_main', desc=[], fields=[...], channels=[]))), Field(name='correct', desc=[], depth=2, format=Enum(name='mmlu_main.choices.correct.bool', desc=[], annonymous=True, values=['true', 'false']), range=None, parent=Field(name='choices', desc=[], depth=1, format=None, range=(4, 4), parent=Prompt(name='mmlu_main', desc=[], fields=[...], channels=[]))), Field(name='answer', desc=[], depth=1, format=Choice(name='mmlu_main.answer', desc=[], annonymous=True, path=Path(steps=[('choices', None), ('value', None)], is_input=False, prompt=None), mode='repeat'), range=None, parent=Prompt(name='mmlu_main', desc=[], fields=[...], channels=[]))], channels=[])\n",
      "====================\n"
     ]
    }
   ],
   "source": [
    "for source in sources:\n",
    "    compiler = Compiler(source=source)\n",
    "    for fld in compiler.program.prompts['mmlu_main'].fields:\n",
    "        range = '' if fld.range is None else ( f'[{fld.range[0]}]' if fld.range[0] == fld.range[1] else f'[{fld.range[0]}:{fld.range[1]}]' )\n",
    "        print(f\"{'> '*fld.depth}{fld.name}({'record' if fld.format is None else fld.format.label()}){range}: {' '.join(fld.desc)}\")\n",
    "    print(\"--------------------\")\n",
    "    for (f,fmt) in compiler.program.formats.items():\n",
    "        print(f\"- {f}: {fmt}\")\n",
    "    print(\"--------------------\")\n",
    "    for (f,fld) in compiler.fields.items():\n",
    "        print(f\"- {f}: {fld}\")\n",
    "    print(\"====================\")\n",
    "    # wrap_graphviz(compiler.program.toGraphViz())"
   ]
  },
  {
   "cell_type": "code",
   "execution_count": null,
   "id": "3588b3e9-9a37-4641-9e15-bb14f34afee3",
   "metadata": {},
   "outputs": [],
   "source": []
  }
 ],
 "metadata": {
  "kernelspec": {
   "display_name": "Python 3 (ipykernel)",
   "language": "python",
   "name": "python3"
  },
  "language_info": {
   "codemirror_mode": {
    "name": "ipython",
    "version": 3
   },
   "file_extension": ".py",
   "mimetype": "text/x-python",
   "name": "python",
   "nbconvert_exporter": "python",
   "pygments_lexer": "ipython3",
   "version": "3.9.16"
  }
 },
 "nbformat": 4,
 "nbformat_minor": 5
}
