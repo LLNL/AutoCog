{
 "cells": [
  {
   "cell_type": "code",
   "execution_count": 1,
   "id": "9d781efe-6b68-4ea9-b39a-1e112f47e31a",
   "metadata": {
    "tags": []
   },
   "outputs": [
    {
     "name": "stdout",
     "output_type": "stream",
     "text": [
      "Warning: Package `llama_cpp` needed for LLaMa wrapper (pip install git+https://github.com/tristanvdb/llama-cpp-python@choice-dev)\n",
      "Warning: Package `transformers` needed for (Huggingface's) transformers wrapper\n"
     ]
    }
   ],
   "source": [
    "import os, sys, json\n",
    "sys.path.append(os.path.realpath(f\"{os.getcwd()}/../../\"))\n",
    "\n",
    "from autocog.pm.sta.compile import Compiler\n",
    "from autocog.utility.pynb import wrap_graphviz, display"
   ]
  },
  {
   "cell_type": "code",
   "execution_count": 2,
   "id": "15e88733-d640-4ab5-b1c3-3277f93407da",
   "metadata": {},
   "outputs": [],
   "source": [
    "sources = [\"\"\"\n",
    "prompt mmlu_main {\n",
    "    is {\n",
    "        topic is text<20>;\n",
    "        question is text<50>;\n",
    "        choices[4] is {\n",
    "            value is text<40>;\n",
    "            correct is enum(\"yes\",\"no\");\n",
    "        }\n",
    "        answer is repeat(.choices.value);\n",
    "    }\n",
    "    channel {\n",
    "        to .topic         from ?topic;\n",
    "        to .question      from ?question;\n",
    "        to .choices.value from ?choices;\n",
    "    }\n",
    "    return {\n",
    "        from .answer;\n",
    "    }\n",
    "    annotate {\n",
    "        .topic           as \"the general category from which the question was taken\";\n",
    "        .question        as \"the question that you have to answer\";\n",
    "        .choices         as \"you judge whether each choice is correct or not\";\n",
    "        .choices.value   as \"the value of the choice\";\n",
    "        .choices.correct as \"you decide whether this choice is correct or not\";\n",
    "        .answer          as \"you repeat the value of the choice that best answer the question\";\n",
    "    }\n",
    "}\"\"\",\"\"\"\n",
    "format bool {\n",
    "    is enum(\"true\",\"false\");\n",
    "    annotate \"a bolean value is either true or false\";\n",
    "}\n",
    "\n",
    "format sentence {\n",
    "    argument length=50;\n",
    "    argument language=\"english\";\n",
    "    is text<length=$length>;\n",
    "    annotate f\"a grammatically correct {language} sentence\";\n",
    "}\n",
    "\n",
    "struct a_choice {\n",
    "    is {\n",
    "        value   is sentence<40>;\n",
    "        correct is bool;\n",
    "    }\n",
    "    annotate {\n",
    "        .value   as \"the value of the choice\";\n",
    "        .correct as \"you decide whether this choice is correct or not\";\n",
    "    }\n",
    "}\n",
    "\n",
    "prompt mmlu_main {\n",
    "    is {\n",
    "        topic      is text<20>;\n",
    "        question   is sentence;\n",
    "        choices[4] is a_choice;\n",
    "        answer     is repeat(.choices.value);\n",
    "    }\n",
    "    channel {\n",
    "        to .topic         from ?topic;\n",
    "        to .question      from ?question;\n",
    "        to .choices.value from ?choices;\n",
    "    }\n",
    "    return .answer;\n",
    "    annotate {\n",
    "        .topic    as \"the general category from which the question was taken\";\n",
    "        .question as \"the question that you have to answer\";\n",
    "        .choices  as \"you judge whether each choice is correct or not\";\n",
    "        .answer   as \"you repeat the value of the choice that best answer the question\";\n",
    "    }\n",
    "}\n",
    "\"\"\"]"
   ]
  },
  {
   "cell_type": "code",
   "execution_count": 4,
   "id": "9b0a9799-1a3e-4c05-9d84-f1c2e91cc2df",
   "metadata": {},
   "outputs": [
    {
     "name": "stdout",
     "output_type": "stream",
     "text": [
      "> topic(text<length=20>): \n",
      "> question(text<length=50>): \n",
      "> choices(record)[4]: \n",
      "> > value(text<length=40>): \n",
      "> > correct(enum(\"yes\",\"no\")): \n",
      "> answer(repeat(choices.value)): \n",
      "--------------------\n",
      "\n",
      "====================\n",
      "concrete=name='mmlu_main.question.sentence<length=50,language=english>' desc=['a grammatically correct english sentence'] refname='sentence<length=50,language=english>' length=50 within=None\n",
      "concrete=name='mmlu_main.choices.value.sentence<length=40,language=english>' desc=['a grammatically correct english sentence'] refname='sentence<length=40,language=english>' length=40 within=None\n",
      "concrete=name='mmlu_main.choices.correct.bool' desc=['a bolean value is either true or false'] refname='bool' values=['true', 'false']\n",
      "> topic(text<length=20>): \n",
      "> question(sentence<length=50,language=english>): \n",
      "> choices(record)[4]: \n",
      "> > value(sentence<length=40,language=english>): \n",
      "> > correct(bool): \n",
      "> answer(repeat(choices.value)): \n",
      "--------------------\n",
      "sentence<length=50,language=english>: a grammatically correct english sentence\n",
      "sentence<length=40,language=english>: a grammatically correct english sentence\n",
      "bool: a bolean value is either true or false\n",
      "====================\n"
     ]
    }
   ],
   "source": [
    "for source in sources:\n",
    "    compiler = Compiler(source=source)\n",
    "    print(compiler.summarize())\n",
    "    # print(compiler.program.prompts['mmlu_main'].fields[1].format.desc)\n",
    "    # wrap_graphviz(compiler.program.toGraphViz())"
   ]
  },
  {
   "cell_type": "code",
   "execution_count": null,
   "id": "3588b3e9-9a37-4641-9e15-bb14f34afee3",
   "metadata": {},
   "outputs": [],
   "source": []
  }
 ],
 "metadata": {
  "kernelspec": {
   "display_name": "Python 3 (ipykernel)",
   "language": "python",
   "name": "python3"
  },
  "language_info": {
   "codemirror_mode": {
    "name": "ipython",
    "version": 3
   },
   "file_extension": ".py",
   "mimetype": "text/x-python",
   "name": "python",
   "nbconvert_exporter": "python",
   "pygments_lexer": "ipython3",
   "version": "3.8.10"
  }
 },
 "nbformat": 4,
 "nbformat_minor": 5
}
