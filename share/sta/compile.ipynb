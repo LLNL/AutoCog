{
 "cells": [
  {
   "cell_type": "code",
   "execution_count": 1,
   "id": "9d781efe-6b68-4ea9-b39a-1e112f47e31a",
   "metadata": {},
   "outputs": [
    {
     "name": "stdout",
     "output_type": "stream",
     "text": [
      "Warning: Package `openai` and `tiktoken` needed for OpenAI wrapper (`pip install openai tiktoken`)\n",
      "Warning: Package `transformers` needed for (Huggingface's) transformers wrapper\n"
     ]
    }
   ],
   "source": [
    "import os, sys, json\n",
    "sys.path.append(\"/workspace/AutoCog\")\n",
    "from autocog.language.sta.compile import Compiler\n",
    "from autocog.utility.pynb import wrap_graphviz, display"
   ]
  },
  {
   "cell_type": "code",
   "execution_count": 2,
   "id": "15e88733-d640-4ab5-b1c3-3277f93407da",
   "metadata": {},
   "outputs": [],
   "source": [
    "sources = [\"\"\"\n",
    "prompt mmlu_main {\n",
    "    is {\n",
    "        topic is text;\n",
    "        question is text;\n",
    "        choices[4] is {\n",
    "            value is text;\n",
    "            correct is enum(\"yes\",\"no\");\n",
    "        }\n",
    "        answer is repeat(.choices.value);\n",
    "    }\n",
    "    channel {\n",
    "        to .topic         from ?topic;\n",
    "        to .question      from ?question;\n",
    "        to .choices.value from ?choices;\n",
    "    }\n",
    "    return {\n",
    "        from .answer;\n",
    "    }\n",
    "    annotate {\n",
    "        .topic           as \"the general category from which the question was taken\";\n",
    "        .question        as \"the question that you have to answer\";\n",
    "        .choices         as \"you judge whether each choice is correct or not\";\n",
    "        .choices.value   as \"the value of the choice\";\n",
    "        .choices.correct as \"you decide whether this choice is correct or not\";\n",
    "        .answer          as \"you repeat the value of the choice that best answer the question\";\n",
    "    }\n",
    "}\"\"\",\"\"\"\n",
    "format bool {\n",
    "    is enum(\"true\",\"false\");\n",
    "    annotate \"a bolean value is either true or false\";\n",
    "}\n",
    "struct a_choice {\n",
    "    is {\n",
    "        value   is text;\n",
    "        correct is bool;\n",
    "    }\n",
    "    annotate {\n",
    "        .value   as \"the value of the choice\";\n",
    "        .correct as \"you decide whether this choice is correct or not\";\n",
    "    }\n",
    "}\n",
    "\n",
    "prompt mmlu_main {\n",
    "    is {\n",
    "        topic      is text<20>;\n",
    "        question   is text<length=50>;\n",
    "        choices[4] is a_choice;\n",
    "        answer     is repeat(.choices.value);\n",
    "    }\n",
    "    channel {\n",
    "        to .topic         from ?topic;\n",
    "        to .question      from ?question;\n",
    "        to .choices.value from ?choices;\n",
    "    }\n",
    "    return .answer;\n",
    "    annotate {\n",
    "        .topic    as \"the general category from which the question was taken\";\n",
    "        .question as \"the question that you have to answer\";\n",
    "        .choices  as \"you judge whether each choice is correct or not\";\n",
    "        .answer   as \"you repeat the value of the choice that best answer the question\";\n",
    "    }\n",
    "}\n",
    "\"\"\"]"
   ]
  },
  {
   "cell_type": "code",
   "execution_count": 3,
   "id": "9b0a9799-1a3e-4c05-9d84-f1c2e91cc2df",
   "metadata": {},
   "outputs": [
    {
     "ename": "NotImplementedError",
     "evalue": "Instantiate struct:\n\tname='a_choice' arguments=[]",
     "output_type": "error",
     "traceback": [
      "\u001b[0;31m---------------------------------------------------------------------------\u001b[0m",
      "\u001b[0;31mNotImplementedError\u001b[0m                       Traceback (most recent call last)",
      "Cell \u001b[0;32mIn[3], line 1\u001b[0m\n\u001b[0;32m----> 1\u001b[0m compiler \u001b[38;5;241m=\u001b[39m \u001b[43mCompiler\u001b[49m\u001b[43m(\u001b[49m\u001b[43msource\u001b[49m\u001b[38;5;241;43m=\u001b[39;49m\u001b[43msources\u001b[49m\u001b[43m[\u001b[49m\u001b[38;5;241;43m1\u001b[39;49m\u001b[43m]\u001b[49m\u001b[43m)\u001b[49m\n\u001b[1;32m      2\u001b[0m wrap_graphviz(compiler\u001b[38;5;241m.\u001b[39mprogram\u001b[38;5;241m.\u001b[39mtoGraphViz())\n",
      "File \u001b[0;32m/workspace/AutoCog/autocog/language/sta/compile.py:45\u001b[0m, in \u001b[0;36mCompiler.__init__\u001b[0;34m(self, source, **kwargs)\u001b[0m\n\u001b[1;32m     39\u001b[0m \u001b[38;5;28;01mdef\u001b[39;00m \u001b[38;5;21m__init__\u001b[39m(\u001b[38;5;28mself\u001b[39m, source:\u001b[38;5;28mstr\u001b[39m, \u001b[38;5;241m*\u001b[39m\u001b[38;5;241m*\u001b[39mkwargs):\n\u001b[1;32m     40\u001b[0m     \u001b[38;5;28msuper\u001b[39m()\u001b[38;5;241m.\u001b[39m\u001b[38;5;21m__init__\u001b[39m(\n\u001b[1;32m     41\u001b[0m         source\u001b[38;5;241m=\u001b[39msource,\n\u001b[1;32m     42\u001b[0m         ast\u001b[38;5;241m=\u001b[39mfrontend(source),\n\u001b[1;32m     43\u001b[0m         program\u001b[38;5;241m=\u001b[39mIrProgram()\n\u001b[1;32m     44\u001b[0m     )\n\u001b[0;32m---> 45\u001b[0m     \u001b[38;5;28;43mself\u001b[39;49m\u001b[38;5;241;43m.\u001b[39;49m\u001b[43mcompile\u001b[49m\u001b[43m(\u001b[49m\u001b[38;5;241;43m*\u001b[39;49m\u001b[38;5;241;43m*\u001b[39;49m\u001b[43mkwargs\u001b[49m\u001b[43m)\u001b[49m\n",
      "File \u001b[0;32m/workspace/AutoCog/autocog/language/sta/compile.py:127\u001b[0m, in \u001b[0;36mCompiler.compile\u001b[0;34m(self, **kwargs)\u001b[0m\n\u001b[1;32m    125\u001b[0m \u001b[38;5;28;01mfor\u001b[39;00m p \u001b[38;5;129;01min\u001b[39;00m \u001b[38;5;28mself\u001b[39m\u001b[38;5;241m.\u001b[39mast\u001b[38;5;241m.\u001b[39mprompts:\n\u001b[1;32m    126\u001b[0m     prompt \u001b[38;5;241m=\u001b[39m IrPrompt(name\u001b[38;5;241m=\u001b[39mp\u001b[38;5;241m.\u001b[39mname)\n\u001b[0;32m--> 127\u001b[0m     \u001b[38;5;28;43mself\u001b[39;49m\u001b[38;5;241;43m.\u001b[39;49m\u001b[43mappend_fields\u001b[49m\u001b[43m(\u001b[49m\n\u001b[1;32m    128\u001b[0m \u001b[43m        \u001b[49m\u001b[43mprompt\u001b[49m\u001b[38;5;241;43m=\u001b[39;49m\u001b[43mprompt\u001b[49m\u001b[43m,\u001b[49m\n\u001b[1;32m    129\u001b[0m \u001b[43m        \u001b[49m\u001b[43mfields\u001b[49m\u001b[38;5;241;43m=\u001b[39;49m\u001b[43mp\u001b[49m\u001b[38;5;241;43m.\u001b[39;49m\u001b[43mfields\u001b[49m\u001b[43m,\u001b[49m\n\u001b[1;32m    130\u001b[0m \u001b[43m        \u001b[49m\u001b[43mparent\u001b[49m\u001b[38;5;241;43m=\u001b[39;49m\u001b[43mprompt\u001b[49m\u001b[43m,\u001b[49m\n\u001b[1;32m    131\u001b[0m \u001b[43m        \u001b[49m\u001b[43mpath\u001b[49m\u001b[38;5;241;43m=\u001b[39;49m\u001b[43m[\u001b[49m\u001b[43mp\u001b[49m\u001b[38;5;241;43m.\u001b[39;49m\u001b[43mname\u001b[49m\u001b[43m]\u001b[49m\n\u001b[1;32m    132\u001b[0m \u001b[43m    \u001b[49m\u001b[43m)\u001b[49m\n\u001b[1;32m    133\u001b[0m     \u001b[38;5;66;03m# TODO channels\u001b[39;00m\n\u001b[1;32m    134\u001b[0m     \u001b[38;5;28mself\u001b[39m\u001b[38;5;241m.\u001b[39mprogram\u001b[38;5;241m.\u001b[39mprompts\u001b[38;5;241m.\u001b[39mupdate({ prompt\u001b[38;5;241m.\u001b[39mname : prompt })\n",
      "File \u001b[0;32m/workspace/AutoCog/autocog/language/sta/compile.py:109\u001b[0m, in \u001b[0;36mCompiler.append_fields\u001b[0;34m(self, prompt, fields, parent, path)\u001b[0m\n\u001b[1;32m    107\u001b[0m depth \u001b[38;5;241m=\u001b[39m \u001b[38;5;241m1\u001b[39m \u001b[38;5;28;01mif\u001b[39;00m \u001b[38;5;28misinstance\u001b[39m(parent, IrPrompt) \u001b[38;5;28;01melse\u001b[39;00m parent\u001b[38;5;241m.\u001b[39mdepth \u001b[38;5;241m+\u001b[39m \u001b[38;5;241m1\u001b[39m\n\u001b[1;32m    108\u001b[0m \u001b[38;5;28;01mfor\u001b[39;00m f \u001b[38;5;129;01min\u001b[39;00m fields:\n\u001b[0;32m--> 109\u001b[0m     fmt \u001b[38;5;241m=\u001b[39m \u001b[38;5;28;43mself\u001b[39;49m\u001b[38;5;241;43m.\u001b[39;49m\u001b[43mresolve_type\u001b[49m\u001b[43m(\u001b[49m\u001b[43mf\u001b[49m\u001b[38;5;241;43m.\u001b[39;49m\u001b[43mtype\u001b[49m\u001b[43m,\u001b[49m\u001b[43m \u001b[49m\u001b[43mpath\u001b[49m\u001b[38;5;241;43m+\u001b[39;49m\u001b[43m[\u001b[49m\u001b[43mf\u001b[49m\u001b[38;5;241;43m.\u001b[39;49m\u001b[43mname\u001b[49m\u001b[43m]\u001b[49m\u001b[43m,\u001b[49m\u001b[43m \u001b[49m\u001b[43mvalues\u001b[49m\u001b[38;5;241;43m=\u001b[39;49m\u001b[43m{\u001b[49m\u001b[43m}\u001b[49m\u001b[43m)\u001b[49m \u001b[38;5;66;03m# TODO accumulate values along path\u001b[39;00m\n\u001b[1;32m    110\u001b[0m     field \u001b[38;5;241m=\u001b[39m IrField(\n\u001b[1;32m    111\u001b[0m         name\u001b[38;5;241m=\u001b[39mf\u001b[38;5;241m.\u001b[39mname,\n\u001b[1;32m    112\u001b[0m         \u001b[38;5;28mformat\u001b[39m\u001b[38;5;241m=\u001b[39m\u001b[38;5;28;01mNone\u001b[39;00m \u001b[38;5;28;01mif\u001b[39;00m \u001b[38;5;28misinstance\u001b[39m(fmt, TmpRecord) \u001b[38;5;28;01melse\u001b[39;00m fmt,\n\u001b[0;32m   (...)\u001b[0m\n\u001b[1;32m    115\u001b[0m         parent\u001b[38;5;241m=\u001b[39mparent\n\u001b[1;32m    116\u001b[0m     )\n\u001b[1;32m    117\u001b[0m     prompt\u001b[38;5;241m.\u001b[39mfields\u001b[38;5;241m.\u001b[39mappend(field)\n",
      "File \u001b[0;32m/workspace/AutoCog/autocog/language/sta/compile.py:72\u001b[0m, in \u001b[0;36mCompiler.resolve_type\u001b[0;34m(self, type, path, values)\u001b[0m\n\u001b[1;32m     70\u001b[0m     \u001b[38;5;28;01mraise\u001b[39;00m \u001b[38;5;167;01mNotImplementedError\u001b[39;00m(\u001b[38;5;124mf\u001b[39m\u001b[38;5;124m\"\u001b[39m\u001b[38;5;124mInstantiate format:\u001b[39m\u001b[38;5;130;01m\\n\u001b[39;00m\u001b[38;5;130;01m\\t\u001b[39;00m\u001b[38;5;132;01m{\u001b[39;00m\u001b[38;5;28mtype\u001b[39m\u001b[38;5;132;01m}\u001b[39;00m\u001b[38;5;124m\"\u001b[39m)\n\u001b[1;32m     71\u001b[0m \u001b[38;5;28;01melif\u001b[39;00m \u001b[38;5;28mtype\u001b[39m\u001b[38;5;241m.\u001b[39mname \u001b[38;5;129;01min\u001b[39;00m \u001b[38;5;28mself\u001b[39m\u001b[38;5;241m.\u001b[39mstructs:\n\u001b[0;32m---> 72\u001b[0m     \u001b[38;5;28;01mraise\u001b[39;00m \u001b[38;5;167;01mNotImplementedError\u001b[39;00m(\u001b[38;5;124mf\u001b[39m\u001b[38;5;124m\"\u001b[39m\u001b[38;5;124mInstantiate struct:\u001b[39m\u001b[38;5;130;01m\\n\u001b[39;00m\u001b[38;5;130;01m\\t\u001b[39;00m\u001b[38;5;132;01m{\u001b[39;00m\u001b[38;5;28mtype\u001b[39m\u001b[38;5;132;01m}\u001b[39;00m\u001b[38;5;124m\"\u001b[39m)\n\u001b[1;32m     73\u001b[0m \u001b[38;5;28;01melif\u001b[39;00m \u001b[38;5;28mtype\u001b[39m\u001b[38;5;241m.\u001b[39mname \u001b[38;5;241m==\u001b[39m \u001b[38;5;124m'\u001b[39m\u001b[38;5;124mtext\u001b[39m\u001b[38;5;124m'\u001b[39m:\n\u001b[1;32m     74\u001b[0m     length \u001b[38;5;241m=\u001b[39m \u001b[38;5;28;01mNone\u001b[39;00m\n",
      "\u001b[0;31mNotImplementedError\u001b[0m: Instantiate struct:\n\tname='a_choice' arguments=[]"
     ]
    }
   ],
   "source": [
    "compiler = Compiler(source=sources[1])\n",
    "wrap_graphviz(compiler.program.toGraphViz())"
   ]
  },
  {
   "cell_type": "code",
   "execution_count": null,
   "id": "3588b3e9-9a37-4641-9e15-bb14f34afee3",
   "metadata": {},
   "outputs": [],
   "source": []
  }
 ],
 "metadata": {
  "kernelspec": {
   "display_name": "Python 3 (ipykernel)",
   "language": "python",
   "name": "python3"
  },
  "language_info": {
   "codemirror_mode": {
    "name": "ipython",
    "version": 3
   },
   "file_extension": ".py",
   "mimetype": "text/x-python",
   "name": "python",
   "nbconvert_exporter": "python",
   "pygments_lexer": "ipython3",
   "version": "3.9.16"
  }
 },
 "nbformat": 4,
 "nbformat_minor": 5
}
