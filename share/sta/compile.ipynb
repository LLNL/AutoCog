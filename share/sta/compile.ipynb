{
 "cells": [
  {
   "cell_type": "code",
   "execution_count": 1,
   "id": "9d781efe-6b68-4ea9-b39a-1e112f47e31a",
   "metadata": {},
   "outputs": [
    {
     "name": "stdout",
     "output_type": "stream",
     "text": [
      "Warning: Package `openai` and `tiktoken` needed for OpenAI wrapper (`pip install openai tiktoken`)\n",
      "Warning: Package `transformers` needed for (Huggingface's) transformers wrapper\n"
     ]
    }
   ],
   "source": [
    "import os, sys, json\n",
    "sys.path.append(\"/workspace/AutoCog\")\n",
    "from autocog.language.sta.compile import compile\n",
    "from autocog.utility.pynb import wrap_graphviz, display"
   ]
  },
  {
   "cell_type": "code",
   "execution_count": 2,
   "id": "9b0a9799-1a3e-4c05-9d84-f1c2e91cc2df",
   "metadata": {},
   "outputs": [
    {
     "ename": "NotImplementedError",
     "evalue": "",
     "output_type": "error",
     "traceback": [
      "\u001b[0;31m---------------------------------------------------------------------------\u001b[0m",
      "\u001b[0;31mNotImplementedError\u001b[0m                       Traceback (most recent call last)",
      "Cell \u001b[0;32mIn[2], line 1\u001b[0m\n\u001b[0;32m----> 1\u001b[0m program \u001b[38;5;241m=\u001b[39m \u001b[38;5;28;43mcompile\u001b[39;49m\u001b[43m(\u001b[49m\u001b[38;5;124;43m\"\"\"\u001b[39;49m\n\u001b[1;32m      2\u001b[0m \u001b[38;5;124;43mdefine default_number_of_choices=4;\u001b[39;49m\n\u001b[1;32m      3\u001b[0m \u001b[38;5;124;43margument N=$default_number_of_choices;\u001b[39;49m\n\u001b[1;32m      4\u001b[0m \u001b[38;5;124;43mprompt mmlu_main \u001b[39;49m\u001b[38;5;124;43m{\u001b[39;49m\n\u001b[1;32m      5\u001b[0m \u001b[38;5;124;43m    is \u001b[39;49m\u001b[38;5;124;43m{\u001b[39;49m\n\u001b[1;32m      6\u001b[0m \u001b[38;5;124;43m        topic is text;\u001b[39;49m\n\u001b[1;32m      7\u001b[0m \u001b[38;5;124;43m        question is text;\u001b[39;49m\n\u001b[1;32m      8\u001b[0m \u001b[38;5;124;43m        choices[$N] is \u001b[39;49m\u001b[38;5;124;43m{\u001b[39;49m\n\u001b[1;32m      9\u001b[0m \u001b[38;5;124;43m            value is text;\u001b[39;49m\n\u001b[1;32m     10\u001b[0m \u001b[38;5;124;43m            correct is bool;\u001b[39;49m\n\u001b[1;32m     11\u001b[0m \u001b[38;5;124;43m        }\u001b[39;49m\n\u001b[1;32m     12\u001b[0m \u001b[38;5;124;43m        answer is repeat(.choices.value);\u001b[39;49m\n\u001b[1;32m     13\u001b[0m \u001b[38;5;124;43m    }\u001b[39;49m\n\u001b[1;32m     14\u001b[0m \u001b[38;5;124;43m    channel \u001b[39;49m\u001b[38;5;124;43m{\u001b[39;49m\n\u001b[1;32m     15\u001b[0m \u001b[38;5;124;43m        to .topic         from ?topic;\u001b[39;49m\n\u001b[1;32m     16\u001b[0m \u001b[38;5;124;43m        to .question      from ?question;\u001b[39;49m\n\u001b[1;32m     17\u001b[0m \u001b[38;5;124;43m        to .choices.value from ?choices;\u001b[39;49m\n\u001b[1;32m     18\u001b[0m \u001b[38;5;124;43m    }\u001b[39;49m\n\u001b[1;32m     19\u001b[0m \u001b[38;5;124;43m    return \u001b[39;49m\u001b[38;5;124;43m{\u001b[39;49m\n\u001b[1;32m     20\u001b[0m \u001b[38;5;124;43m        from .answer;\u001b[39;49m\n\u001b[1;32m     21\u001b[0m \u001b[38;5;124;43m    }\u001b[39;49m\n\u001b[1;32m     22\u001b[0m \u001b[38;5;124;43m    annotate \u001b[39;49m\u001b[38;5;124;43m{\u001b[39;49m\n\u001b[1;32m     23\u001b[0m \u001b[38;5;124;43m        .topic           as \u001b[39;49m\u001b[38;5;124;43m\"\u001b[39;49m\u001b[38;5;124;43mthe general category from which the question was taken\u001b[39;49m\u001b[38;5;124;43m\"\u001b[39;49m\u001b[38;5;124;43m;\u001b[39;49m\n\u001b[1;32m     24\u001b[0m \u001b[38;5;124;43m        .question        as \u001b[39;49m\u001b[38;5;124;43m\"\u001b[39;49m\u001b[38;5;124;43mthe question that you have to answer\u001b[39;49m\u001b[38;5;124;43m\"\u001b[39;49m\u001b[38;5;124;43m;\u001b[39;49m\n\u001b[1;32m     25\u001b[0m \u001b[38;5;124;43m        .choices         as \u001b[39;49m\u001b[38;5;124;43m\"\u001b[39;49m\u001b[38;5;124;43myou judge whether each choice is correct or not\u001b[39;49m\u001b[38;5;124;43m\"\u001b[39;49m\u001b[38;5;124;43m;\u001b[39;49m\n\u001b[1;32m     26\u001b[0m \u001b[38;5;124;43m        .choices.value   as \u001b[39;49m\u001b[38;5;124;43m\"\u001b[39;49m\u001b[38;5;124;43mthe value of the choice\u001b[39;49m\u001b[38;5;124;43m\"\u001b[39;49m\u001b[38;5;124;43m;\u001b[39;49m\n\u001b[1;32m     27\u001b[0m \u001b[38;5;124;43m        .choices.correct as \u001b[39;49m\u001b[38;5;124;43m\"\u001b[39;49m\u001b[38;5;124;43myou decide whether this choice is correct or not\u001b[39;49m\u001b[38;5;124;43m\"\u001b[39;49m\u001b[38;5;124;43m;\u001b[39;49m\n\u001b[1;32m     28\u001b[0m \u001b[38;5;124;43m        .answer          as \u001b[39;49m\u001b[38;5;124;43m\"\u001b[39;49m\u001b[38;5;124;43myou repeat the value of the choice that best answer the question\u001b[39;49m\u001b[38;5;124;43m\"\u001b[39;49m\u001b[38;5;124;43m;\u001b[39;49m\n\u001b[1;32m     29\u001b[0m \u001b[38;5;124;43m    }\u001b[39;49m\n\u001b[1;32m     30\u001b[0m \u001b[38;5;124;43m}\u001b[39;49m\n\u001b[1;32m     31\u001b[0m \u001b[38;5;124;43m\"\"\"\u001b[39;49m\u001b[43m)\u001b[49m\n\u001b[1;32m     32\u001b[0m wrap_graphviz(program\u001b[38;5;241m.\u001b[39mtoGraphViz())\n",
      "File \u001b[0;32m/workspace/AutoCog/autocog/language/sta/compile.py:6\u001b[0m, in \u001b[0;36mcompile\u001b[0;34m(program)\u001b[0m\n\u001b[1;32m      5\u001b[0m \u001b[38;5;28;01mdef\u001b[39;00m \u001b[38;5;21mcompile\u001b[39m(program: \u001b[38;5;28mstr\u001b[39m):\n\u001b[0;32m----> 6\u001b[0m     \u001b[38;5;28;01mraise\u001b[39;00m \u001b[38;5;167;01mNotImplementedError\u001b[39;00m()\n",
      "\u001b[0;31mNotImplementedError\u001b[0m: "
     ]
    }
   ],
   "source": [
    "program = compile(\"\"\"\n",
    "define default_number_of_choices=4;\n",
    "argument N=$default_number_of_choices;\n",
    "prompt mmlu_main {\n",
    "    is {\n",
    "        topic is text;\n",
    "        question is text;\n",
    "        choices[$N] is {\n",
    "            value is text;\n",
    "            correct is bool;\n",
    "        }\n",
    "        answer is repeat(.choices.value);\n",
    "    }\n",
    "    channel {\n",
    "        to .topic         from ?topic;\n",
    "        to .question      from ?question;\n",
    "        to .choices.value from ?choices;\n",
    "    }\n",
    "    return {\n",
    "        from .answer;\n",
    "    }\n",
    "    annotate {\n",
    "        .topic           as \"the general category from which the question was taken\";\n",
    "        .question        as \"the question that you have to answer\";\n",
    "        .choices         as \"you judge whether each choice is correct or not\";\n",
    "        .choices.value   as \"the value of the choice\";\n",
    "        .choices.correct as \"you decide whether this choice is correct or not\";\n",
    "        .answer          as \"you repeat the value of the choice that best answer the question\";\n",
    "    }\n",
    "}\n",
    "\"\"\")\n",
    "wrap_graphviz(program.toGraphViz())"
   ]
  }
 ],
 "metadata": {
  "kernelspec": {
   "display_name": "Python 3 (ipykernel)",
   "language": "python",
   "name": "python3"
  },
  "language_info": {
   "codemirror_mode": {
    "name": "ipython",
    "version": 3
   },
   "file_extension": ".py",
   "mimetype": "text/x-python",
   "name": "python",
   "nbconvert_exporter": "python",
   "pygments_lexer": "ipython3",
   "version": "3.9.16"
  }
 },
 "nbformat": 4,
 "nbformat_minor": 5
}
