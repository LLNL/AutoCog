{
 "cells": [
  {
   "cell_type": "markdown",
   "id": "97398d28-103e-41a9-9537-f32d89e147d8",
   "metadata": {},
   "source": [
    "# Reader\n",
    "\n",
    "The goal is to build a generic structured document reader (aka PDF, webpage, ...)"
   ]
  },
  {
   "cell_type": "code",
   "execution_count": null,
   "id": "d7629805-073d-4164-b8b0-aa50504618c0",
   "metadata": {},
   "outputs": [],
   "source": [
    "# TODO"
   ]
  }
 ],
 "metadata": {
  "kernelspec": {
   "display_name": "Python 3 (ipykernel)",
   "language": "python",
   "name": "python3"
  },
  "language_info": {
   "codemirror_mode": {
    "name": "ipython",
    "version": 3
   },
   "file_extension": ".py",
   "mimetype": "text/x-python",
   "name": "python",
   "nbconvert_exporter": "python",
   "pygments_lexer": "ipython3",
   "version": "3.11.2"
  }
 },
 "nbformat": 4,
 "nbformat_minor": 5
}
