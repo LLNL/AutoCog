{
 "cells": [
  {
   "cell_type": "code",
   "execution_count": null,
   "id": "6f728a73-54c0-47ae-b0a3-7965d3a11ae0",
   "metadata": {
    "tags": []
   },
   "outputs": [],
   "source": [
    "!pip install --break-system-packages openai tiktoken"
   ]
  },
  {
   "cell_type": "code",
   "execution_count": 5,
   "id": "da3c98fc-8abc-4ac2-94be-b744222f678d",
   "metadata": {
    "tags": []
   },
   "outputs": [
    {
     "name": "stdout",
     "output_type": "stream",
     "text": [
      "\n",
      "\n",
      " === cgo24[0] === \n",
      "\n",
      "You are a helpful AI assistant.\n",
      "Given a user question, you craft an answer\n",
      "formulate your initial answer\n",
      "You are using an interactive questionnaire.\n",
      "Follow this structure after the start prompt:\n",
      "```\n",
      "> question(text): user's question\n",
      "> ponder[3](thought): you think about an answer\n",
      "> answer[2](sentence): your initial answer\n",
      "\n",
      "```\n",
      "Each prompt expects one of the following formats:\n",
      "- text: ASCII text in any form\n",
      "- thought: your thoughts (a few words per lines)\n",
      "- sentence: one natural language sentence per line\n",
      "Terminate each prompt with a newline. Use as many statement with \"thought\" format as needed.\n",
      "\n",
      "start(record):\n",
      "> question(text): Explain the different phases of a compiler\n",
      "> ponder[1](thought):  Understand user goal: explain the phases of a compiler   \n",
      "> ponder[2](thought):  Recall relevant information about compiler phases  \n",
      "> answer[1](sentence):  A compiler typically goes through several distinct phases to translate source code into executable code.\n",
      "> answer[2](sentence):  These phases include lexical analysis, syntax analysis, semantic analysis, code generation, and optimization.\n",
      "You are a helpful AI assistant.\n",
      "Given a user question, you craft an answer\n",
      "improve your answer iteratively\n",
      "You are using an interactive questionnaire.\n",
      "Follow this structure after the start prompt:\n",
      "```\n",
      "> question(text): user's question\n",
      "> draft[2](sentence): your current answer\n",
      "> problems[2](record): list all issues in this answer\n",
      "> > identify(sentence): one issue to address\n",
      "> > consider[3](thought): solutions for that issue\n",
      "> answer[2](sentence): write your corrected answer\n",
      "> issues(thought): are there other issues left to edit?\n",
      "\n",
      "```\n",
      "Each prompt expects one of the following formats:\n",
      "- next: \"edit\" the issues or \"submit\" your answer\n",
      "- text: ASCII text in any form\n",
      "- sentence: one natural language sentence per line\n",
      "- record: start of a nested prompt\n",
      "- thought: your thoughts (a few words per lines)\n",
      "Terminate each prompt with a newline. Use as many statement with \"thought\" format as needed.\n",
      "\n",
      "start(record):\n",
      "> question(text): Explain the different phases of a compiler\n",
      "> draft[1](sentence):  A compiler typically goes through several distinct phases to translate source code into executable code.\n",
      "> draft[2](sentence):  These phases include lexical analysis, syntax analysis, semantic analysis, code generation, and optimization.\n",
      "> problems[1](record):\n",
      "> > identify(sentence):  This answer is too technical for a general audience.  \n",
      "> > consider[1](thought):  Omit nonessential details.  \n",
      "> > consider[2](thought):  Use simpler language.  \n",
      "> > consider[3](thought):  Add an example of one of the phases.  \n",
      "> answer[1](sentence):  A compiler translates source code into executable code in several steps, such as analyzing the code, generating the code, and optimizing it. For example, the lexical analysis phase scans the source code to identify the individual symbols it contains.  \n",
      "> issues(thought):  No, the answer is now complete.  \n",
      "You are a helpful AI assistant.\n",
      "Given a user question, you craft an answer\n",
      "\"ghost\" used to join dataflow branches\n",
      "You are using an interactive questionnaire.\n",
      "Follow this structure after the start prompt:\n",
      "```\n",
      "> answer[2](sentence): \n",
      "\n",
      "```\n",
      "Each prompt expects one of the following formats:\n",
      "- sentence: one natural language sentence per line\n",
      "Terminate each prompt with a newline. Use as many statement with \"thought\" format as needed.\n",
      "\n",
      "start(record):\n",
      "> answer[1](sentence):  A compiler translates source code into executable code in several steps, such as analyzing the code, generating the code, and optimizing it. For example, the lexical analysis phase scans the source code to identify the individual symbols it contains.  \n",
      "{\n",
      "    \"answer\": [\n",
      "        [\n",
      "            \" A compiler translates source code into executable code in several steps, such as analyzing the code, generating the code, and optimizing it. For example, the lexical analysis phase scans the source code to identify the individual symbols it contains.  \"\n",
      "        ]\n",
      "    ]\n",
      "}\n"
     ]
    }
   ],
   "source": [
    "!rm -rf cgo24\n",
    "import os, sys, json\n",
    "from autocog import CogArch\n",
    "from autocog.lm import Llama, OpenAI\n",
    "from autocog.architecture import PromptTee\n",
    "\n",
    "arch = CogArch(cogctx={'prompt_out':PromptTee(prefix='cgo24', tee=sys.stdout, fmt='{p}/{c}/{t}-{i}.txt')})\n",
    "sta_fortune = arch.load(tag='cgo24', filepath='./library/cgo24.sta', T=3, N=2, R=2, S=3, L=2)\n",
    "\n",
    "arch.cogs['cgo24'].LMs.update({\n",
    "  'text'     : OpenAI(max_tokens=20, temperature=0.4),\n",
    "  'thought'  : OpenAI(max_tokens=15, temperature=1.0),\n",
    "  'sentence' : OpenAI(max_tokens=50, temperature=0.7),\n",
    "})\n",
    "res = await arch('cgo24', question=\"Explain the different phases of a compiler\")\n",
    "print(json.dumps(res[0], indent=4))\n",
    "\n",
    "arch.cogs['cgo24'].LMs.update({\n",
    "  'text'     : Llama(model_path=\"/workspace/models/7B/ggml-model-q4_0.bin\", n_ctx=2048, defaults={'max_tokens':20}),\n",
    "  'thought'  : Llama(model_path=\"/workspace/models/7B/ggml-model-q4_0.bin\", n_ctx=2048, defaults={'max_tokens':15}),\n",
    "  'sentence' : Llama(model_path=\"/workspace/models/7B/ggml-model-q4_0.bin\", n_ctx=2048, defaults={'max_tokens':50}),\n",
    "})\n",
    "res = await arch('cgo24', question=\"Explain the different phases of a compiler\")\n",
    "print(json.dumps(res[0], indent=4))\n",
    "\n",
    "#arch.cogs['cgo24'].LMs.update({ 'text' : Llama(model_path=\"/workspace/models/7B/ggml-model-q4_0.bin\", n_ctx=2048) })"
   ]
  },
  {
   "cell_type": "code",
   "execution_count": null,
   "id": "c8ea0fff-c6ae-48cb-8cf2-52a4ae905a4d",
   "metadata": {
    "tags": []
   },
   "outputs": [],
   "source": []
  },
  {
   "cell_type": "code",
   "execution_count": null,
   "id": "846413a0-e993-4040-8377-1981b71ef4f0",
   "metadata": {
    "tags": []
   },
   "outputs": [],
   "source": [
    "import os, sys, json\n",
    "from autocog import CogArch\n",
    "from autocog.lm import Llama, OpenAI\n",
    "from autocog.architecture import PromptTee\n",
    "\n",
    "arch = CogArch(cogctx={'prompt_out':PromptTee(prefix='CGO 24', tee=sys.stdout)})\n",
    "sta_fortune = arch.load(tag='cgo24', filepath='./library/cgo24.sta', N=10)\n",
    "\n",
    "from autocog.utility.pynb import wrap_graphviz\n",
    "def print_text(text, out=None, filepath=None):\n",
    "    if out is not None:\n",
    "        out.write('\\n'.join([ f\"{i}: {txt}\" for (i,txt) in enumerate(text.split('\\n')) ]) + '\\n')\n",
    "    if filepath is not None:\n",
    "        open(filepath,'w').write(text)\n",
    "    return text\n",
    "#wrap_graphviz(print_text(sta_fortune.toGraphViz(), out=sys.stdout, filepath='cgo24.dot'))\n",
    "wrap_graphviz(print_text(open('cgo24.dot').read()))"
   ]
  }
 ],
 "metadata": {
  "kernelspec": {
   "display_name": "Python 3 (ipykernel)",
   "language": "python",
   "name": "python3"
  },
  "language_info": {
   "codemirror_mode": {
    "name": "ipython",
    "version": 3
   },
   "file_extension": ".py",
   "mimetype": "text/x-python",
   "name": "python",
   "nbconvert_exporter": "python",
   "pygments_lexer": "ipython3",
   "version": "3.11.2"
  }
 },
 "nbformat": 4,
 "nbformat_minor": 5
}
